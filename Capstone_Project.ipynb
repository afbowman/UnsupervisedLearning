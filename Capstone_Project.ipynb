{
 "cells": [
  {
   "cell_type": "markdown",
   "metadata": {
    "tags": []
   },
   "source": [
    "\n",
    "# No Show Appointments **Capstone Edition**\n",
    "Amanda Bowman\n",
    "\n",
    "\n",
    "## Table of Contents\n",
    "<ul>\n",
    "<li><a href=\"#intro\">Introduction</a></li>\n",
    "<li><a href=\"#load\">Load and Explore the Data</a></li>\n",
    "<li><a href=\"#clean\">Cleaning</a></li>\n",
    "<li><a href=\"#eda\">Exploratory Data Analysis</a></li>\n",
    "<li><a href=\"#conclusions\">Conclusions</a></li>\n",
    "<li><a href=\"#sources\">Sources</a></li>\n",
    "</ul>"
   ]
  },
  {
   "cell_type": "markdown",
   "metadata": {},
   "source": [
    "<a id='intro'></a>\n",
    "## Introduction\n",
    "\n",
    "### Dataset Description \n",
    "\n",
    "This dataset is a simplified version of the Medical Appointment No Shows dataset on kaggle. It contains data for 110,527 unique appointments with 14 associated values for different characteristics. It was most recently updated six years ago. One item of note when viewing this dataset is that the value of the No Show column indicates whether the patient no-showed for the appointment. This means that \"Yes\" or, later, True mean that the patient did NOT attend the appointment.\n",
    "\n",
    "#### Descriptive information about each column\n",
    "\n",
    "| Column Name     | Description   | Original Datatype | Final Datatype |\n",
    "|:-----           |:-----         |:-------           |:--------       |\n",
    "|PatientId      |Identification of a patient   | float             | string            |\n",
    "| AppointmentID  | Identification of each appointment         | int               | string            |\n",
    "| Gender         | Male or Female .    | string            | int         |\n",
    "| ScheduledDay   | The day someone called or registered the appointment, this should be before appointment.      | string            | datetime       |\n",
    "| AppointmentDay | The day of the actual appointment, when they have to visit the doctor.                                                                                                                                                 | string            | datetime       |\n",
    "| Age            | How old is the patient.                                                | int               | int            |\n",
    "| Neighbourhood  | Where the appointment takes place.                                                 | string            | int           |\n",
    "| Scholarship    | 0 or 1 .  True indicates enrollment in the social program Bolsa Familia. Between 2003 and 2021, Bolsa Familia supported families with children ages 0-17 living in poverty (monthly income between R$85.01 and R$170.00) and in extreme poverty  (monthly income equal to or less than R$85.00).  Note: To maintain eligibility, children must receive vaccinations on schedule and maintain attendance in school. For children between the ages of 6 and 15, they must meet a 85\\%   attendance expectation. Children aged between 16 and 17  must meet a 75\\% attendance expectation.  | int               | int           |\n",
    "| Hipertension   |0 or 1     | int               | int           |\n",
    "| Diabetes       | 0 or 1     | int               | int           |\n",
    "| Alcoholism     | 0 or 1     | int               | int           |\n",
    "| Handcap        | 0-4    | int               | int           |\n",
    "| SMS_received   | 0 or 1 | int               | int           |\n",
    "| No-show        | Yes or No. Yes means patient no-showed for the appointment.      | string            | int           |\n",
    "\n",
    "\n",
    "For additional details about the data set, including the data dictionary:\n",
    "[kaggle](https://www.kaggle.com/datasets/joniarroba/noshowappointments)\n",
    "[Project Description](https://docs.google.com/document/d/e/2PACX-1vTlVmknRRnfy_4eTrjw5hYGaiQim5ctr9naaRd4V9du2B5bxpd8FEH3KtDgp8qVekw7Cj1GLk1IXdZi/pub)\n",
    "\n",
    "### Question(s) for Analysis\n",
    "\n",
    "1) Which factors or characteristics have a positive relationship with no shows? \n",
    "\n",
    "2) Is there a relationship between the length of time between scheduling the appointments and appointment attendance? Do people who receive text message reminders attend more frequently and does this relate no shows to the length of time?\n",
    "\n",
    "\n",
    "### Import the required packages"
   ]
  },
  {
   "cell_type": "code",
   "execution_count": 1,
   "metadata": {},
   "outputs": [],
   "source": [
    "#!pip install --upgrade pandas==1.3.5\n",
    "#!pip install --upgrade scikit-learn\n",
    "#!pip install --upgrade seaborn\n",
    "#!pip install --upgrade matplotlib"
   ]
  },
  {
   "cell_type": "code",
   "execution_count": 2,
   "metadata": {},
   "outputs": [
    {
     "name": "stdout",
     "output_type": "stream",
     "text": [
      "3.8.16\n"
     ]
    }
   ],
   "source": [
    "from platform import python_version\n",
    "\n",
    "print(python_version())"
   ]
  },
  {
   "cell_type": "code",
   "execution_count": 3,
   "metadata": {},
   "outputs": [],
   "source": [
    "# set up import statements for all of the packages that will be used\n",
    "import pandas as pd\n",
    "import numpy as np\n",
    "import matplotlib.pyplot as plt\n",
    "import matplotlib.ticker as ticker\n",
    "import seaborn as sns\n",
    "\n",
    "%matplotlib inline"
   ]
  },
  {
   "cell_type": "markdown",
   "metadata": {},
   "source": [
    "<a id='load'></a>\n",
    "## Load and Explore the Data"
   ]
  },
  {
   "cell_type": "code",
   "execution_count": 4,
   "metadata": {},
   "outputs": [
    {
     "data": {
      "text/html": [
       "<div>\n",
       "<style scoped>\n",
       "    .dataframe tbody tr th:only-of-type {\n",
       "        vertical-align: middle;\n",
       "    }\n",
       "\n",
       "    .dataframe tbody tr th {\n",
       "        vertical-align: top;\n",
       "    }\n",
       "\n",
       "    .dataframe thead th {\n",
       "        text-align: right;\n",
       "    }\n",
       "</style>\n",
       "<table border=\"1\" class=\"dataframe\">\n",
       "  <thead>\n",
       "    <tr style=\"text-align: right;\">\n",
       "      <th></th>\n",
       "      <th>PatientId</th>\n",
       "      <th>AppointmentID</th>\n",
       "      <th>Gender</th>\n",
       "      <th>ScheduledDay</th>\n",
       "      <th>AppointmentDay</th>\n",
       "      <th>Age</th>\n",
       "      <th>Neighbourhood</th>\n",
       "      <th>Scholarship</th>\n",
       "      <th>Hipertension</th>\n",
       "      <th>Diabetes</th>\n",
       "      <th>Alcoholism</th>\n",
       "      <th>Handcap</th>\n",
       "      <th>SMS_received</th>\n",
       "      <th>No-show</th>\n",
       "    </tr>\n",
       "  </thead>\n",
       "  <tbody>\n",
       "    <tr>\n",
       "      <th>0</th>\n",
       "      <td>2.987250e+13</td>\n",
       "      <td>5642903</td>\n",
       "      <td>F</td>\n",
       "      <td>2016-04-29T18:38:08Z</td>\n",
       "      <td>2016-04-29T00:00:00Z</td>\n",
       "      <td>62</td>\n",
       "      <td>JARDIM DA PENHA</td>\n",
       "      <td>0</td>\n",
       "      <td>1</td>\n",
       "      <td>0</td>\n",
       "      <td>0</td>\n",
       "      <td>0</td>\n",
       "      <td>0</td>\n",
       "      <td>No</td>\n",
       "    </tr>\n",
       "    <tr>\n",
       "      <th>1</th>\n",
       "      <td>5.589978e+14</td>\n",
       "      <td>5642503</td>\n",
       "      <td>M</td>\n",
       "      <td>2016-04-29T16:08:27Z</td>\n",
       "      <td>2016-04-29T00:00:00Z</td>\n",
       "      <td>56</td>\n",
       "      <td>JARDIM DA PENHA</td>\n",
       "      <td>0</td>\n",
       "      <td>0</td>\n",
       "      <td>0</td>\n",
       "      <td>0</td>\n",
       "      <td>0</td>\n",
       "      <td>0</td>\n",
       "      <td>No</td>\n",
       "    </tr>\n",
       "    <tr>\n",
       "      <th>2</th>\n",
       "      <td>4.262962e+12</td>\n",
       "      <td>5642549</td>\n",
       "      <td>F</td>\n",
       "      <td>2016-04-29T16:19:04Z</td>\n",
       "      <td>2016-04-29T00:00:00Z</td>\n",
       "      <td>62</td>\n",
       "      <td>MATA DA PRAIA</td>\n",
       "      <td>0</td>\n",
       "      <td>0</td>\n",
       "      <td>0</td>\n",
       "      <td>0</td>\n",
       "      <td>0</td>\n",
       "      <td>0</td>\n",
       "      <td>No</td>\n",
       "    </tr>\n",
       "    <tr>\n",
       "      <th>3</th>\n",
       "      <td>8.679512e+11</td>\n",
       "      <td>5642828</td>\n",
       "      <td>F</td>\n",
       "      <td>2016-04-29T17:29:31Z</td>\n",
       "      <td>2016-04-29T00:00:00Z</td>\n",
       "      <td>8</td>\n",
       "      <td>PONTAL DE CAMBURI</td>\n",
       "      <td>0</td>\n",
       "      <td>0</td>\n",
       "      <td>0</td>\n",
       "      <td>0</td>\n",
       "      <td>0</td>\n",
       "      <td>0</td>\n",
       "      <td>No</td>\n",
       "    </tr>\n",
       "    <tr>\n",
       "      <th>4</th>\n",
       "      <td>8.841186e+12</td>\n",
       "      <td>5642494</td>\n",
       "      <td>F</td>\n",
       "      <td>2016-04-29T16:07:23Z</td>\n",
       "      <td>2016-04-29T00:00:00Z</td>\n",
       "      <td>56</td>\n",
       "      <td>JARDIM DA PENHA</td>\n",
       "      <td>0</td>\n",
       "      <td>1</td>\n",
       "      <td>1</td>\n",
       "      <td>0</td>\n",
       "      <td>0</td>\n",
       "      <td>0</td>\n",
       "      <td>No</td>\n",
       "    </tr>\n",
       "  </tbody>\n",
       "</table>\n",
       "</div>"
      ],
      "text/plain": [
       "      PatientId  AppointmentID Gender          ScheduledDay  \\\n",
       "0  2.987250e+13        5642903      F  2016-04-29T18:38:08Z   \n",
       "1  5.589978e+14        5642503      M  2016-04-29T16:08:27Z   \n",
       "2  4.262962e+12        5642549      F  2016-04-29T16:19:04Z   \n",
       "3  8.679512e+11        5642828      F  2016-04-29T17:29:31Z   \n",
       "4  8.841186e+12        5642494      F  2016-04-29T16:07:23Z   \n",
       "\n",
       "         AppointmentDay  Age      Neighbourhood  Scholarship  Hipertension  \\\n",
       "0  2016-04-29T00:00:00Z   62    JARDIM DA PENHA            0             1   \n",
       "1  2016-04-29T00:00:00Z   56    JARDIM DA PENHA            0             0   \n",
       "2  2016-04-29T00:00:00Z   62      MATA DA PRAIA            0             0   \n",
       "3  2016-04-29T00:00:00Z    8  PONTAL DE CAMBURI            0             0   \n",
       "4  2016-04-29T00:00:00Z   56    JARDIM DA PENHA            0             1   \n",
       "\n",
       "   Diabetes  Alcoholism  Handcap  SMS_received No-show  \n",
       "0         0           0        0             0      No  \n",
       "1         0           0        0             0      No  \n",
       "2         0           0        0             0      No  \n",
       "3         0           0        0             0      No  \n",
       "4         1           0        0             0      No  "
      ]
     },
     "execution_count": 4,
     "metadata": {},
     "output_type": "execute_result"
    }
   ],
   "source": [
    "# Load data and print out a few lines to get a basic understanding of the dataset and ensure loading:\n",
    "df = pd.read_csv('noshowappointments-kagglev2-may-2016.csv')\n",
    "df.head()"
   ]
  },
  {
   "cell_type": "code",
   "execution_count": 5,
   "metadata": {},
   "outputs": [
    {
     "name": "stdout",
     "output_type": "stream",
     "text": [
      "<class 'pandas.core.frame.DataFrame'>\n",
      "RangeIndex: 110527 entries, 0 to 110526\n",
      "Data columns (total 14 columns):\n",
      " #   Column          Non-Null Count   Dtype  \n",
      "---  ------          --------------   -----  \n",
      " 0   PatientId       110527 non-null  float64\n",
      " 1   AppointmentID   110527 non-null  int64  \n",
      " 2   Gender          110527 non-null  object \n",
      " 3   ScheduledDay    110527 non-null  object \n",
      " 4   AppointmentDay  110527 non-null  object \n",
      " 5   Age             110527 non-null  int64  \n",
      " 6   Neighbourhood   110527 non-null  object \n",
      " 7   Scholarship     110527 non-null  int64  \n",
      " 8   Hipertension    110527 non-null  int64  \n",
      " 9   Diabetes        110527 non-null  int64  \n",
      " 10  Alcoholism      110527 non-null  int64  \n",
      " 11  Handcap         110527 non-null  int64  \n",
      " 12  SMS_received    110527 non-null  int64  \n",
      " 13  No-show         110527 non-null  object \n",
      "dtypes: float64(1), int64(8), object(5)\n",
      "memory usage: 11.8+ MB\n"
     ]
    }
   ],
   "source": [
    "# Understand basic features of dataset.\n",
    "df.info()"
   ]
  },
  {
   "cell_type": "code",
   "execution_count": 6,
   "metadata": {},
   "outputs": [
    {
     "data": {
      "text/html": [
       "<div>\n",
       "<style scoped>\n",
       "    .dataframe tbody tr th:only-of-type {\n",
       "        vertical-align: middle;\n",
       "    }\n",
       "\n",
       "    .dataframe tbody tr th {\n",
       "        vertical-align: top;\n",
       "    }\n",
       "\n",
       "    .dataframe thead th {\n",
       "        text-align: right;\n",
       "    }\n",
       "</style>\n",
       "<table border=\"1\" class=\"dataframe\">\n",
       "  <thead>\n",
       "    <tr style=\"text-align: right;\">\n",
       "      <th></th>\n",
       "      <th>PatientId</th>\n",
       "      <th>AppointmentID</th>\n",
       "      <th>Age</th>\n",
       "      <th>Scholarship</th>\n",
       "      <th>Hipertension</th>\n",
       "      <th>Diabetes</th>\n",
       "      <th>Alcoholism</th>\n",
       "      <th>Handcap</th>\n",
       "      <th>SMS_received</th>\n",
       "    </tr>\n",
       "  </thead>\n",
       "  <tbody>\n",
       "    <tr>\n",
       "      <th>count</th>\n",
       "      <td>1.105270e+05</td>\n",
       "      <td>1.105270e+05</td>\n",
       "      <td>110527.000000</td>\n",
       "      <td>110527.000000</td>\n",
       "      <td>110527.000000</td>\n",
       "      <td>110527.000000</td>\n",
       "      <td>110527.000000</td>\n",
       "      <td>110527.000000</td>\n",
       "      <td>110527.000000</td>\n",
       "    </tr>\n",
       "    <tr>\n",
       "      <th>mean</th>\n",
       "      <td>1.474963e+14</td>\n",
       "      <td>5.675305e+06</td>\n",
       "      <td>37.088874</td>\n",
       "      <td>0.098266</td>\n",
       "      <td>0.197246</td>\n",
       "      <td>0.071865</td>\n",
       "      <td>0.030400</td>\n",
       "      <td>0.022248</td>\n",
       "      <td>0.321026</td>\n",
       "    </tr>\n",
       "    <tr>\n",
       "      <th>std</th>\n",
       "      <td>2.560949e+14</td>\n",
       "      <td>7.129575e+04</td>\n",
       "      <td>23.110205</td>\n",
       "      <td>0.297675</td>\n",
       "      <td>0.397921</td>\n",
       "      <td>0.258265</td>\n",
       "      <td>0.171686</td>\n",
       "      <td>0.161543</td>\n",
       "      <td>0.466873</td>\n",
       "    </tr>\n",
       "    <tr>\n",
       "      <th>min</th>\n",
       "      <td>3.921784e+04</td>\n",
       "      <td>5.030230e+06</td>\n",
       "      <td>-1.000000</td>\n",
       "      <td>0.000000</td>\n",
       "      <td>0.000000</td>\n",
       "      <td>0.000000</td>\n",
       "      <td>0.000000</td>\n",
       "      <td>0.000000</td>\n",
       "      <td>0.000000</td>\n",
       "    </tr>\n",
       "    <tr>\n",
       "      <th>25%</th>\n",
       "      <td>4.172614e+12</td>\n",
       "      <td>5.640286e+06</td>\n",
       "      <td>18.000000</td>\n",
       "      <td>0.000000</td>\n",
       "      <td>0.000000</td>\n",
       "      <td>0.000000</td>\n",
       "      <td>0.000000</td>\n",
       "      <td>0.000000</td>\n",
       "      <td>0.000000</td>\n",
       "    </tr>\n",
       "    <tr>\n",
       "      <th>50%</th>\n",
       "      <td>3.173184e+13</td>\n",
       "      <td>5.680573e+06</td>\n",
       "      <td>37.000000</td>\n",
       "      <td>0.000000</td>\n",
       "      <td>0.000000</td>\n",
       "      <td>0.000000</td>\n",
       "      <td>0.000000</td>\n",
       "      <td>0.000000</td>\n",
       "      <td>0.000000</td>\n",
       "    </tr>\n",
       "    <tr>\n",
       "      <th>75%</th>\n",
       "      <td>9.439172e+13</td>\n",
       "      <td>5.725524e+06</td>\n",
       "      <td>55.000000</td>\n",
       "      <td>0.000000</td>\n",
       "      <td>0.000000</td>\n",
       "      <td>0.000000</td>\n",
       "      <td>0.000000</td>\n",
       "      <td>0.000000</td>\n",
       "      <td>1.000000</td>\n",
       "    </tr>\n",
       "    <tr>\n",
       "      <th>max</th>\n",
       "      <td>9.999816e+14</td>\n",
       "      <td>5.790484e+06</td>\n",
       "      <td>115.000000</td>\n",
       "      <td>1.000000</td>\n",
       "      <td>1.000000</td>\n",
       "      <td>1.000000</td>\n",
       "      <td>1.000000</td>\n",
       "      <td>4.000000</td>\n",
       "      <td>1.000000</td>\n",
       "    </tr>\n",
       "  </tbody>\n",
       "</table>\n",
       "</div>"
      ],
      "text/plain": [
       "          PatientId  AppointmentID            Age    Scholarship  \\\n",
       "count  1.105270e+05   1.105270e+05  110527.000000  110527.000000   \n",
       "mean   1.474963e+14   5.675305e+06      37.088874       0.098266   \n",
       "std    2.560949e+14   7.129575e+04      23.110205       0.297675   \n",
       "min    3.921784e+04   5.030230e+06      -1.000000       0.000000   \n",
       "25%    4.172614e+12   5.640286e+06      18.000000       0.000000   \n",
       "50%    3.173184e+13   5.680573e+06      37.000000       0.000000   \n",
       "75%    9.439172e+13   5.725524e+06      55.000000       0.000000   \n",
       "max    9.999816e+14   5.790484e+06     115.000000       1.000000   \n",
       "\n",
       "        Hipertension       Diabetes     Alcoholism        Handcap  \\\n",
       "count  110527.000000  110527.000000  110527.000000  110527.000000   \n",
       "mean        0.197246       0.071865       0.030400       0.022248   \n",
       "std         0.397921       0.258265       0.171686       0.161543   \n",
       "min         0.000000       0.000000       0.000000       0.000000   \n",
       "25%         0.000000       0.000000       0.000000       0.000000   \n",
       "50%         0.000000       0.000000       0.000000       0.000000   \n",
       "75%         0.000000       0.000000       0.000000       0.000000   \n",
       "max         1.000000       1.000000       1.000000       4.000000   \n",
       "\n",
       "        SMS_received  \n",
       "count  110527.000000  \n",
       "mean        0.321026  \n",
       "std         0.466873  \n",
       "min         0.000000  \n",
       "25%         0.000000  \n",
       "50%         0.000000  \n",
       "75%         1.000000  \n",
       "max         1.000000  "
      ]
     },
     "execution_count": 6,
     "metadata": {},
     "output_type": "execute_result"
    }
   ],
   "source": [
    "# View statistical information about the columns.\n",
    "df.describe()"
   ]
  },
  {
   "cell_type": "markdown",
   "metadata": {},
   "source": [
    "While several of these columns are integers, they appear to represent categorical data. What are the possible values?"
   ]
  },
  {
   "cell_type": "code",
   "execution_count": 7,
   "metadata": {},
   "outputs": [
    {
     "name": "stdout",
     "output_type": "stream",
     "text": [
      "Gender: ['F' 'M']\n",
      "\n",
      "Neighbourhood: ['JARDIM DA PENHA' 'MATA DA PRAIA' 'PONTAL DE CAMBURI' 'REPÚBLICA'\n",
      " 'GOIABEIRAS' 'ANDORINHAS' 'CONQUISTA' 'NOVA PALESTINA' 'DA PENHA'\n",
      " 'TABUAZEIRO' 'BENTO FERREIRA' 'SÃO PEDRO' 'SANTA MARTHA' 'SÃO CRISTÓVÃO'\n",
      " 'MARUÍPE' 'GRANDE VITÓRIA' 'SÃO BENEDITO' 'ILHA DAS CAIEIRAS'\n",
      " 'SANTO ANDRÉ' 'SOLON BORGES' 'BONFIM' 'JARDIM CAMBURI' 'MARIA ORTIZ'\n",
      " 'JABOUR' 'ANTÔNIO HONÓRIO' 'RESISTÊNCIA' 'ILHA DE SANTA MARIA'\n",
      " 'JUCUTUQUARA' 'MONTE BELO' 'MÁRIO CYPRESTE' 'SANTO ANTÔNIO' 'BELA VISTA'\n",
      " 'PRAIA DO SUÁ' 'SANTA HELENA' 'ITARARÉ' 'INHANGUETÁ' 'UNIVERSITÁRIO'\n",
      " 'SÃO JOSÉ' 'REDENÇÃO' 'SANTA CLARA' 'CENTRO' 'PARQUE MOSCOSO'\n",
      " 'DO MOSCOSO' 'SANTOS DUMONT' 'CARATOÍRA' 'ARIOVALDO FAVALESSA'\n",
      " 'ILHA DO FRADE' 'GURIGICA' 'JOANA D´ARC' 'CONSOLAÇÃO' 'PRAIA DO CANTO'\n",
      " 'BOA VISTA' 'MORADA DE CAMBURI' 'SANTA LUÍZA' 'SANTA LÚCIA'\n",
      " 'BARRO VERMELHO' 'ESTRELINHA' 'FORTE SÃO JOÃO' 'FONTE GRANDE'\n",
      " 'ENSEADA DO SUÁ' 'SANTOS REIS' 'PIEDADE' 'JESUS DE NAZARETH'\n",
      " 'SANTA TEREZA' 'CRUZAMENTO' 'ILHA DO PRÍNCIPE' 'ROMÃO' 'COMDUSA'\n",
      " 'SANTA CECÍLIA' 'VILA RUBIM' 'DE LOURDES' 'DO QUADRO' 'DO CABRAL' 'HORTO'\n",
      " 'SEGURANÇA DO LAR' 'ILHA DO BOI' 'FRADINHOS' 'NAZARETH' 'AEROPORTO'\n",
      " 'ILHAS OCEÂNICAS DE TRINDADE' 'PARQUE INDUSTRIAL']\n",
      "\n",
      "Scholarship: [0 1]\n",
      "\n",
      "Hipertension: [1 0]\n",
      "\n",
      "Diabetes: [0 1]\n",
      "\n",
      "Alcoholism: [0 1]\n",
      "\n",
      "Handcap: [0 1 2 3 4]\n",
      "\n",
      "SMS_received: [0 1]\n",
      "\n",
      "No-show: ['No' 'Yes']\n",
      "\n"
     ]
    }
   ],
   "source": [
    "columns = ['Gender','Neighbourhood', 'Scholarship', 'Hipertension', 'Diabetes', 'Alcoholism', 'Handcap', 'SMS_received', 'No-show']\n",
    "for col in columns:\n",
    "    col_values = str(col) + ': ' + str(pd.unique(df[col])) \n",
    "    print(col_values) \n",
    "    print()  # cycle through each column and print the concatenated string"
   ]
  },
  {
   "cell_type": "code",
   "execution_count": 8,
   "metadata": {},
   "outputs": [
    {
     "data": {
      "text/plain": [
       "0"
      ]
     },
     "execution_count": 8,
     "metadata": {},
     "output_type": "execute_result"
    }
   ],
   "source": [
    "# Number of duplicate rows?\n",
    "sum(df.duplicated())"
   ]
  },
  {
   "cell_type": "code",
   "execution_count": 9,
   "metadata": {},
   "outputs": [
    {
     "data": {
      "text/plain": [
       "0"
      ]
     },
     "execution_count": 9,
     "metadata": {},
     "output_type": "execute_result"
    }
   ],
   "source": [
    "# Missing data?\n",
    "df.isna().any(axis=1).sum() "
   ]
  },
  {
   "cell_type": "code",
   "execution_count": 10,
   "metadata": {},
   "outputs": [
    {
     "name": "stdout",
     "output_type": "stream",
     "text": [
      "Number of unique patients:  62299\n",
      "Number of unique appointments:  110527\n"
     ]
    }
   ],
   "source": [
    "# Check the number of unique patients versus the number of unique appointments to determine how these columns relate.\n",
    "print('Number of unique patients: ', df['PatientId'].nunique())\n",
    "print('Number of unique appointments: ', df['AppointmentID'].nunique())"
   ]
  },
  {
   "cell_type": "markdown",
   "metadata": {},
   "source": [
    "This indicates that each appointment is only linked to one patient, but one patient can have many appointments."
   ]
  },
  {
   "cell_type": "code",
   "execution_count": 11,
   "metadata": {},
   "outputs": [
    {
     "data": {
      "image/png": "[encoded data removed]",
      "text/plain": [
       "<Figure size 1080x1080 with 9 Axes>"
      ]
     },
     "metadata": {
      "needs_background": "light"
     },
     "output_type": "display_data"
    }
   ],
   "source": [
    "# Histograms of each column to better understand the data and distributions for each column. AppointmentID and PatientId will have no meaning.\n",
    "df.hist(figsize=(15,15));"
   ]
  },
  {
   "cell_type": "markdown",
   "metadata": {},
   "source": [
    "\n",
    "# Possibly analyze duplicate patient data"
   ]
  },
  {
   "cell_type": "code",
   "execution_count": 12,
   "metadata": {},
   "outputs": [
    {
     "data": {
      "text/html": [
       "<div>\n",
       "<style scoped>\n",
       "    .dataframe tbody tr th:only-of-type {\n",
       "        vertical-align: middle;\n",
       "    }\n",
       "\n",
       "    .dataframe tbody tr th {\n",
       "        vertical-align: top;\n",
       "    }\n",
       "\n",
       "    .dataframe thead th {\n",
       "        text-align: right;\n",
       "    }\n",
       "</style>\n",
       "<table border=\"1\" class=\"dataframe\">\n",
       "  <thead>\n",
       "    <tr style=\"text-align: right;\">\n",
       "      <th></th>\n",
       "      <th>PatientId</th>\n",
       "      <th>AppointmentID</th>\n",
       "      <th>Gender</th>\n",
       "      <th>ScheduledDay</th>\n",
       "      <th>AppointmentDay</th>\n",
       "      <th>Age</th>\n",
       "      <th>Neighbourhood</th>\n",
       "      <th>Scholarship</th>\n",
       "      <th>Hipertension</th>\n",
       "      <th>Diabetes</th>\n",
       "      <th>Alcoholism</th>\n",
       "      <th>Handcap</th>\n",
       "      <th>SMS_received</th>\n",
       "      <th>No-show</th>\n",
       "    </tr>\n",
       "  </thead>\n",
       "  <tbody>\n",
       "    <tr>\n",
       "      <th>58616</th>\n",
       "      <td>2.263866e+07</td>\n",
       "      <td>5580835</td>\n",
       "      <td>F</td>\n",
       "      <td>2016-04-14T07:23:30Z</td>\n",
       "      <td>2016-05-03T00:00:00Z</td>\n",
       "      <td>22</td>\n",
       "      <td>INHANGUETÁ</td>\n",
       "      <td>0</td>\n",
       "      <td>0</td>\n",
       "      <td>0</td>\n",
       "      <td>0</td>\n",
       "      <td>0</td>\n",
       "      <td>1</td>\n",
       "      <td>No</td>\n",
       "    </tr>\n",
       "    <tr>\n",
       "      <th>88585</th>\n",
       "      <td>2.263866e+07</td>\n",
       "      <td>5715081</td>\n",
       "      <td>F</td>\n",
       "      <td>2016-05-18T13:37:12Z</td>\n",
       "      <td>2016-06-08T00:00:00Z</td>\n",
       "      <td>23</td>\n",
       "      <td>INHANGUETÁ</td>\n",
       "      <td>0</td>\n",
       "      <td>0</td>\n",
       "      <td>0</td>\n",
       "      <td>0</td>\n",
       "      <td>0</td>\n",
       "      <td>1</td>\n",
       "      <td>No</td>\n",
       "    </tr>\n",
       "    <tr>\n",
       "      <th>83628</th>\n",
       "      <td>5.216894e+07</td>\n",
       "      <td>5704816</td>\n",
       "      <td>F</td>\n",
       "      <td>2016-05-16T16:42:19Z</td>\n",
       "      <td>2016-05-16T00:00:00Z</td>\n",
       "      <td>28</td>\n",
       "      <td>JARDIM DA PENHA</td>\n",
       "      <td>0</td>\n",
       "      <td>0</td>\n",
       "      <td>0</td>\n",
       "      <td>0</td>\n",
       "      <td>0</td>\n",
       "      <td>0</td>\n",
       "      <td>No</td>\n",
       "    </tr>\n",
       "    <tr>\n",
       "      <th>49826</th>\n",
       "      <td>5.216894e+07</td>\n",
       "      <td>5607220</td>\n",
       "      <td>F</td>\n",
       "      <td>2016-04-20T11:22:15Z</td>\n",
       "      <td>2016-05-17T00:00:00Z</td>\n",
       "      <td>28</td>\n",
       "      <td>JARDIM DA PENHA</td>\n",
       "      <td>0</td>\n",
       "      <td>0</td>\n",
       "      <td>0</td>\n",
       "      <td>0</td>\n",
       "      <td>0</td>\n",
       "      <td>0</td>\n",
       "      <td>No</td>\n",
       "    </tr>\n",
       "    <tr>\n",
       "      <th>11009</th>\n",
       "      <td>6.485121e+07</td>\n",
       "      <td>5683383</td>\n",
       "      <td>F</td>\n",
       "      <td>2016-05-11T07:28:23Z</td>\n",
       "      <td>2016-05-13T00:00:00Z</td>\n",
       "      <td>29</td>\n",
       "      <td>MARUÍPE</td>\n",
       "      <td>0</td>\n",
       "      <td>0</td>\n",
       "      <td>0</td>\n",
       "      <td>0</td>\n",
       "      <td>0</td>\n",
       "      <td>0</td>\n",
       "      <td>Yes</td>\n",
       "    </tr>\n",
       "    <tr>\n",
       "      <th>...</th>\n",
       "      <td>...</td>\n",
       "      <td>...</td>\n",
       "      <td>...</td>\n",
       "      <td>...</td>\n",
       "      <td>...</td>\n",
       "      <td>...</td>\n",
       "      <td>...</td>\n",
       "      <td>...</td>\n",
       "      <td>...</td>\n",
       "      <td>...</td>\n",
       "      <td>...</td>\n",
       "      <td>...</td>\n",
       "      <td>...</td>\n",
       "      <td>...</td>\n",
       "    </tr>\n",
       "    <tr>\n",
       "      <th>32033</th>\n",
       "      <td>9.999320e+14</td>\n",
       "      <td>5736368</td>\n",
       "      <td>M</td>\n",
       "      <td>2016-05-25T08:14:58Z</td>\n",
       "      <td>2016-05-25T00:00:00Z</td>\n",
       "      <td>90</td>\n",
       "      <td>JABOUR</td>\n",
       "      <td>0</td>\n",
       "      <td>0</td>\n",
       "      <td>0</td>\n",
       "      <td>0</td>\n",
       "      <td>0</td>\n",
       "      <td>0</td>\n",
       "      <td>No</td>\n",
       "    </tr>\n",
       "    <tr>\n",
       "      <th>32023</th>\n",
       "      <td>9.999320e+14</td>\n",
       "      <td>5710157</td>\n",
       "      <td>M</td>\n",
       "      <td>2016-05-17T15:22:01Z</td>\n",
       "      <td>2016-05-17T00:00:00Z</td>\n",
       "      <td>90</td>\n",
       "      <td>JABOUR</td>\n",
       "      <td>0</td>\n",
       "      <td>0</td>\n",
       "      <td>0</td>\n",
       "      <td>0</td>\n",
       "      <td>0</td>\n",
       "      <td>0</td>\n",
       "      <td>No</td>\n",
       "    </tr>\n",
       "    <tr>\n",
       "      <th>62194</th>\n",
       "      <td>9.999320e+14</td>\n",
       "      <td>5616762</td>\n",
       "      <td>M</td>\n",
       "      <td>2016-04-25T14:46:41Z</td>\n",
       "      <td>2016-05-04T00:00:00Z</td>\n",
       "      <td>90</td>\n",
       "      <td>JABOUR</td>\n",
       "      <td>0</td>\n",
       "      <td>0</td>\n",
       "      <td>0</td>\n",
       "      <td>0</td>\n",
       "      <td>0</td>\n",
       "      <td>1</td>\n",
       "      <td>No</td>\n",
       "    </tr>\n",
       "    <tr>\n",
       "      <th>104616</th>\n",
       "      <td>9.999320e+14</td>\n",
       "      <td>5772701</td>\n",
       "      <td>M</td>\n",
       "      <td>2016-06-03T16:04:03Z</td>\n",
       "      <td>2016-06-07T00:00:00Z</td>\n",
       "      <td>90</td>\n",
       "      <td>JABOUR</td>\n",
       "      <td>0</td>\n",
       "      <td>0</td>\n",
       "      <td>0</td>\n",
       "      <td>0</td>\n",
       "      <td>0</td>\n",
       "      <td>1</td>\n",
       "      <td>No</td>\n",
       "    </tr>\n",
       "    <tr>\n",
       "      <th>62099</th>\n",
       "      <td>9.999320e+14</td>\n",
       "      <td>5700484</td>\n",
       "      <td>M</td>\n",
       "      <td>2016-05-16T09:29:43Z</td>\n",
       "      <td>2016-05-17T00:00:00Z</td>\n",
       "      <td>90</td>\n",
       "      <td>JABOUR</td>\n",
       "      <td>0</td>\n",
       "      <td>0</td>\n",
       "      <td>0</td>\n",
       "      <td>0</td>\n",
       "      <td>0</td>\n",
       "      <td>0</td>\n",
       "      <td>No</td>\n",
       "    </tr>\n",
       "  </tbody>\n",
       "</table>\n",
       "<p>72607 rows × 14 columns</p>\n",
       "</div>"
      ],
      "text/plain": [
       "           PatientId  AppointmentID Gender          ScheduledDay  \\\n",
       "58616   2.263866e+07        5580835      F  2016-04-14T07:23:30Z   \n",
       "88585   2.263866e+07        5715081      F  2016-05-18T13:37:12Z   \n",
       "83628   5.216894e+07        5704816      F  2016-05-16T16:42:19Z   \n",
       "49826   5.216894e+07        5607220      F  2016-04-20T11:22:15Z   \n",
       "11009   6.485121e+07        5683383      F  2016-05-11T07:28:23Z   \n",
       "...              ...            ...    ...                   ...   \n",
       "32033   9.999320e+14        5736368      M  2016-05-25T08:14:58Z   \n",
       "32023   9.999320e+14        5710157      M  2016-05-17T15:22:01Z   \n",
       "62194   9.999320e+14        5616762      M  2016-04-25T14:46:41Z   \n",
       "104616  9.999320e+14        5772701      M  2016-06-03T16:04:03Z   \n",
       "62099   9.999320e+14        5700484      M  2016-05-16T09:29:43Z   \n",
       "\n",
       "              AppointmentDay  Age    Neighbourhood  Scholarship  Hipertension  \\\n",
       "58616   2016-05-03T00:00:00Z   22       INHANGUETÁ            0             0   \n",
       "88585   2016-06-08T00:00:00Z   23       INHANGUETÁ            0             0   \n",
       "83628   2016-05-16T00:00:00Z   28  JARDIM DA PENHA            0             0   \n",
       "49826   2016-05-17T00:00:00Z   28  JARDIM DA PENHA            0             0   \n",
       "11009   2016-05-13T00:00:00Z   29          MARUÍPE            0             0   \n",
       "...                      ...  ...              ...          ...           ...   \n",
       "32033   2016-05-25T00:00:00Z   90           JABOUR            0             0   \n",
       "32023   2016-05-17T00:00:00Z   90           JABOUR            0             0   \n",
       "62194   2016-05-04T00:00:00Z   90           JABOUR            0             0   \n",
       "104616  2016-06-07T00:00:00Z   90           JABOUR            0             0   \n",
       "62099   2016-05-17T00:00:00Z   90           JABOUR            0             0   \n",
       "\n",
       "        Diabetes  Alcoholism  Handcap  SMS_received No-show  \n",
       "58616          0           0        0             1      No  \n",
       "88585          0           0        0             1      No  \n",
       "83628          0           0        0             0      No  \n",
       "49826          0           0        0             0      No  \n",
       "11009          0           0        0             0     Yes  \n",
       "...          ...         ...      ...           ...     ...  \n",
       "32033          0           0        0             0      No  \n",
       "32023          0           0        0             0      No  \n",
       "62194          0           0        0             1      No  \n",
       "104616         0           0        0             1      No  \n",
       "62099          0           0        0             0      No  \n",
       "\n",
       "[72607 rows x 14 columns]"
      ]
     },
     "execution_count": 12,
     "metadata": {},
     "output_type": "execute_result"
    }
   ],
   "source": [
    "dup_pts = df[df['PatientId'].duplicated(keep=False)]\n",
    "dup_pts.sort_values('PatientId')"
   ]
  },
  {
   "cell_type": "code",
   "execution_count": 13,
   "metadata": {},
   "outputs": [],
   "source": [
    "prev_ns = []\n",
    "\n"
   ]
  },
  {
   "cell_type": "markdown",
   "metadata": {},
   "source": []
  },
  {
   "cell_type": "code",
   "execution_count": null,
   "metadata": {},
   "outputs": [],
   "source": []
  },
  {
   "cell_type": "code",
   "execution_count": 14,
   "metadata": {},
   "outputs": [],
   "source": [
    "def plot_hist(df, col_name, width_bin):\n",
    "    sns.displot(data=df, x=col_name, binwidth=width_bin, height=5, aspect=11.7/5);"
   ]
  },
  {
   "cell_type": "code",
   "execution_count": null,
   "metadata": {},
   "outputs": [],
   "source": []
  },
  {
   "cell_type": "code",
   "execution_count": null,
   "metadata": {},
   "outputs": [],
   "source": []
  },
  {
   "cell_type": "markdown",
   "metadata": {},
   "source": [
    "<a id='clean'></a>\n",
    "## Cleaning \n",
    "\n",
    "As identified above, there are no duplicate rows and no missing values. My data will require some wrangling before it is ready for use in a model. I will address some general issues and perform initial feature engineering on the date columns.\n",
    "\n",
    "#### Update Column Names and Drop ID columns\n",
    "\n",
    " \n",
    " * Column Headers:\n",
    "     - Capitalized - need to make lower case\n",
    "     - Need to separate PatientId, AppointmentID, ScheduledDay, AppointmentDay with _\n",
    "     - Change No-show to no_show     \n",
    "     - Update Hipertension and Handcap column names\n",
    "     \n",
    "\n",
    "     \n",
    "\n",
    "\n",
    "\n",
    "\n",
    "     - sheduled_day and appointment_day to datetime\n",
    "     - scholarship, hipertension, diabetes, alcoholism, sms_received, no_show to bool\n",
    "     \n"
   ]
  },
  {
   "cell_type": "code",
   "execution_count": 15,
   "metadata": {},
   "outputs": [],
   "source": [
    "# Make a copy of the data\n",
    "df_prep = df.copy()"
   ]
  },
  {
   "cell_type": "code",
   "execution_count": 16,
   "metadata": {},
   "outputs": [
    {
     "name": "stdout",
     "output_type": "stream",
     "text": [
      "<class 'pandas.core.frame.DataFrame'>\n",
      "RangeIndex: 110527 entries, 0 to 110526\n",
      "Data columns (total 14 columns):\n",
      " #   Column            Non-Null Count   Dtype  \n",
      "---  ------            --------------   -----  \n",
      " 0   patientid         110527 non-null  float64\n",
      " 1   appointmentid     110527 non-null  int64  \n",
      " 2   gender            110527 non-null  object \n",
      " 3   scheduled_day     110527 non-null  object \n",
      " 4   appointment_day   110527 non-null  object \n",
      " 5   age               110527 non-null  int64  \n",
      " 6   neighbourhood     110527 non-null  object \n",
      " 7   scholarship       110527 non-null  int64  \n",
      " 8   hypertension      110527 non-null  int64  \n",
      " 9   diabetes          110527 non-null  int64  \n",
      " 10  alcoholism        110527 non-null  int64  \n",
      " 11  disability_count  110527 non-null  int64  \n",
      " 12  sms_received      110527 non-null  int64  \n",
      " 13  no_show           110527 non-null  object \n",
      "dtypes: float64(1), int64(8), object(5)\n",
      "memory usage: 11.8+ MB\n"
     ]
    }
   ],
   "source": [
    "# Make all column names lower case and replace the dash with an underscore.\n",
    "df_prep.rename(columns= lambda x:x.lower().replace(\"-\", \"_\"), inplace=True)\n",
    "# Rename the rest of columns by adding an underscore and update column names. \n",
    "df_prep.rename(columns={'scheduledday':'scheduled_day', 'appointmentday':'appointment_day', 'hipertension':'hypertension', 'handcap':'disability_count'}, inplace=True)\n",
    "# Check new column names.\n",
    "df_prep.info()"
   ]
  },
  {
   "cell_type": "code",
   "execution_count": null,
   "metadata": {},
   "outputs": [],
   "source": []
  },
  {
   "cell_type": "markdown",
   "metadata": {},
   "source": [
    "#### Address Age\n",
    " \n",
    " Age should be a continuous integer variable starting at 0. There were patients aged under 0 and over 100 years old. 115 years old seems like a potential error.\n",
    "\n",
    "The number of patients between the ages of 100 and 120 is very small. What can I learn about those patients to determine whether they need to be dropped from the dataset as errors?\n",
    "\n",
    "What are the ages of the patient for the 10 oldest-aged appointments?"
   ]
  },
  {
   "cell_type": "code",
   "execution_count": 17,
   "metadata": {},
   "outputs": [
    {
     "data": {
      "image/png": "[encoded data removed]",
      "text/plain": [
       "<Figure size 842.4x360 with 1 Axes>"
      ]
     },
     "metadata": {
      "needs_background": "light"
     },
     "output_type": "display_data"
    }
   ],
   "source": [
    "# What does the distribution of ages look like?\n",
    "plot_hist(df_prep,'age', 3)"
   ]
  },
  {
   "cell_type": "code",
   "execution_count": 18,
   "metadata": {},
   "outputs": [
    {
     "data": {
      "image/png": "[encoded data removed]",
      "text/plain": [
       "<Figure size 842.4x360 with 1 Axes>"
      ]
     },
     "metadata": {
      "needs_background": "light"
     },
     "output_type": "display_data"
    }
   ],
   "source": [
    "#The number of patients between the ages of 100 and 120 is very small. \n",
    "#What can I learn about those patients to determine whether they need to be dropped from the dataset as errors?\n",
    "plot_hist(df_prep[df_prep['age'] >= 100], 'age', 1)"
   ]
  },
  {
   "cell_type": "code",
   "execution_count": 19,
   "metadata": {},
   "outputs": [
    {
     "data": {
      "text/html": [
       "<div>\n",
       "<style scoped>\n",
       "    .dataframe tbody tr th:only-of-type {\n",
       "        vertical-align: middle;\n",
       "    }\n",
       "\n",
       "    .dataframe tbody tr th {\n",
       "        vertical-align: top;\n",
       "    }\n",
       "\n",
       "    .dataframe thead th {\n",
       "        text-align: right;\n",
       "    }\n",
       "</style>\n",
       "<table border=\"1\" class=\"dataframe\">\n",
       "  <thead>\n",
       "    <tr style=\"text-align: right;\">\n",
       "      <th></th>\n",
       "      <th>patientid</th>\n",
       "      <th>appointmentid</th>\n",
       "      <th>gender</th>\n",
       "      <th>scheduled_day</th>\n",
       "      <th>appointment_day</th>\n",
       "      <th>age</th>\n",
       "      <th>neighbourhood</th>\n",
       "      <th>scholarship</th>\n",
       "      <th>hypertension</th>\n",
       "      <th>diabetes</th>\n",
       "      <th>alcoholism</th>\n",
       "      <th>disability_count</th>\n",
       "      <th>sms_received</th>\n",
       "      <th>no_show</th>\n",
       "    </tr>\n",
       "  </thead>\n",
       "  <tbody>\n",
       "    <tr>\n",
       "      <th>58014</th>\n",
       "      <td>9.762948e+14</td>\n",
       "      <td>5651757</td>\n",
       "      <td>F</td>\n",
       "      <td>2016-05-03T09:14:53Z</td>\n",
       "      <td>2016-05-03T00:00:00Z</td>\n",
       "      <td>102</td>\n",
       "      <td>CONQUISTA</td>\n",
       "      <td>0</td>\n",
       "      <td>0</td>\n",
       "      <td>0</td>\n",
       "      <td>0</td>\n",
       "      <td>0</td>\n",
       "      <td>0</td>\n",
       "      <td>No</td>\n",
       "    </tr>\n",
       "    <tr>\n",
       "      <th>63912</th>\n",
       "      <td>3.196321e+13</td>\n",
       "      <td>5700278</td>\n",
       "      <td>F</td>\n",
       "      <td>2016-05-16T09:17:44Z</td>\n",
       "      <td>2016-05-19T00:00:00Z</td>\n",
       "      <td>115</td>\n",
       "      <td>ANDORINHAS</td>\n",
       "      <td>0</td>\n",
       "      <td>0</td>\n",
       "      <td>0</td>\n",
       "      <td>0</td>\n",
       "      <td>1</td>\n",
       "      <td>0</td>\n",
       "      <td>Yes</td>\n",
       "    </tr>\n",
       "    <tr>\n",
       "      <th>63915</th>\n",
       "      <td>3.196321e+13</td>\n",
       "      <td>5700279</td>\n",
       "      <td>F</td>\n",
       "      <td>2016-05-16T09:17:44Z</td>\n",
       "      <td>2016-05-19T00:00:00Z</td>\n",
       "      <td>115</td>\n",
       "      <td>ANDORINHAS</td>\n",
       "      <td>0</td>\n",
       "      <td>0</td>\n",
       "      <td>0</td>\n",
       "      <td>0</td>\n",
       "      <td>1</td>\n",
       "      <td>0</td>\n",
       "      <td>Yes</td>\n",
       "    </tr>\n",
       "    <tr>\n",
       "      <th>68127</th>\n",
       "      <td>3.196321e+13</td>\n",
       "      <td>5562812</td>\n",
       "      <td>F</td>\n",
       "      <td>2016-04-08T14:29:17Z</td>\n",
       "      <td>2016-05-16T00:00:00Z</td>\n",
       "      <td>115</td>\n",
       "      <td>ANDORINHAS</td>\n",
       "      <td>0</td>\n",
       "      <td>0</td>\n",
       "      <td>0</td>\n",
       "      <td>0</td>\n",
       "      <td>1</td>\n",
       "      <td>0</td>\n",
       "      <td>Yes</td>\n",
       "    </tr>\n",
       "    <tr>\n",
       "      <th>76284</th>\n",
       "      <td>3.196321e+13</td>\n",
       "      <td>5744037</td>\n",
       "      <td>F</td>\n",
       "      <td>2016-05-30T09:44:51Z</td>\n",
       "      <td>2016-05-30T00:00:00Z</td>\n",
       "      <td>115</td>\n",
       "      <td>ANDORINHAS</td>\n",
       "      <td>0</td>\n",
       "      <td>0</td>\n",
       "      <td>0</td>\n",
       "      <td>0</td>\n",
       "      <td>1</td>\n",
       "      <td>0</td>\n",
       "      <td>No</td>\n",
       "    </tr>\n",
       "    <tr>\n",
       "      <th>90372</th>\n",
       "      <td>2.342836e+11</td>\n",
       "      <td>5751563</td>\n",
       "      <td>F</td>\n",
       "      <td>2016-05-31T10:19:49Z</td>\n",
       "      <td>2016-06-02T00:00:00Z</td>\n",
       "      <td>102</td>\n",
       "      <td>MARIA ORTIZ</td>\n",
       "      <td>0</td>\n",
       "      <td>0</td>\n",
       "      <td>0</td>\n",
       "      <td>0</td>\n",
       "      <td>0</td>\n",
       "      <td>0</td>\n",
       "      <td>No</td>\n",
       "    </tr>\n",
       "    <tr>\n",
       "      <th>97666</th>\n",
       "      <td>7.482346e+14</td>\n",
       "      <td>5717451</td>\n",
       "      <td>F</td>\n",
       "      <td>2016-05-19T07:57:56Z</td>\n",
       "      <td>2016-06-03T00:00:00Z</td>\n",
       "      <td>115</td>\n",
       "      <td>SÃO JOSÉ</td>\n",
       "      <td>0</td>\n",
       "      <td>1</td>\n",
       "      <td>0</td>\n",
       "      <td>0</td>\n",
       "      <td>0</td>\n",
       "      <td>1</td>\n",
       "      <td>No</td>\n",
       "    </tr>\n",
       "  </tbody>\n",
       "</table>\n",
       "</div>"
      ],
      "text/plain": [
       "          patientid  appointmentid gender         scheduled_day  \\\n",
       "58014  9.762948e+14        5651757      F  2016-05-03T09:14:53Z   \n",
       "63912  3.196321e+13        5700278      F  2016-05-16T09:17:44Z   \n",
       "63915  3.196321e+13        5700279      F  2016-05-16T09:17:44Z   \n",
       "68127  3.196321e+13        5562812      F  2016-04-08T14:29:17Z   \n",
       "76284  3.196321e+13        5744037      F  2016-05-30T09:44:51Z   \n",
       "90372  2.342836e+11        5751563      F  2016-05-31T10:19:49Z   \n",
       "97666  7.482346e+14        5717451      F  2016-05-19T07:57:56Z   \n",
       "\n",
       "            appointment_day  age neighbourhood  scholarship  hypertension  \\\n",
       "58014  2016-05-03T00:00:00Z  102     CONQUISTA            0             0   \n",
       "63912  2016-05-19T00:00:00Z  115    ANDORINHAS            0             0   \n",
       "63915  2016-05-19T00:00:00Z  115    ANDORINHAS            0             0   \n",
       "68127  2016-05-16T00:00:00Z  115    ANDORINHAS            0             0   \n",
       "76284  2016-05-30T00:00:00Z  115    ANDORINHAS            0             0   \n",
       "90372  2016-06-02T00:00:00Z  102   MARIA ORTIZ            0             0   \n",
       "97666  2016-06-03T00:00:00Z  115      SÃO JOSÉ            0             1   \n",
       "\n",
       "       diabetes  alcoholism  disability_count  sms_received no_show  \n",
       "58014         0           0                 0             0      No  \n",
       "63912         0           0                 1             0     Yes  \n",
       "63915         0           0                 1             0     Yes  \n",
       "68127         0           0                 1             0     Yes  \n",
       "76284         0           0                 1             0      No  \n",
       "90372         0           0                 0             0      No  \n",
       "97666         0           0                 0             1      No  "
      ]
     },
     "execution_count": 19,
     "metadata": {},
     "output_type": "execute_result"
    }
   ],
   "source": [
    "df_prep[df_prep['age'] >= 102]"
   ]
  },
  {
   "cell_type": "markdown",
   "metadata": {},
   "source": [
    "Based on patientid, the max age of 115 is for two distinct patients, one with multiple appointments. The next oldest is 102. While it is possible that this age is correct, reviewing [World Age Statistics] (https://en.wikipedia.org/wiki/Oldest_people#:~:text=The%20oldest%20living%20person%20in,Venezuela%2C%20born%2027%20May%201909.) indicates it is unlikely to have even one person of this age in this data, let alone two. It is impossible to determine whether these ages were entered in error, so it will be necessary to remove these rows. Since the next oldest patient is 102 and there are 6 patients between the ages of 100 and 102, I will use this as a cutoff. "
   ]
  },
  {
   "cell_type": "code",
   "execution_count": 20,
   "metadata": {},
   "outputs": [],
   "source": [
    "df_prep.drop(df_prep[df_prep['age'] > 102].index, inplace = True)\n",
    "df_prep.drop(df_prep[df_prep['age'] < 0].index, inplace = True)"
   ]
  },
  {
   "cell_type": "code",
   "execution_count": 21,
   "metadata": {},
   "outputs": [
    {
     "data": {
      "text/plain": [
       "count    110521.000000\n",
       "mean         37.085694\n",
       "std          23.104606\n",
       "min           0.000000\n",
       "25%          18.000000\n",
       "50%          37.000000\n",
       "75%          55.000000\n",
       "max         102.000000\n",
       "Name: age, dtype: float64"
      ]
     },
     "execution_count": 21,
     "metadata": {},
     "output_type": "execute_result"
    }
   ],
   "source": [
    "df_prep['age'].describe()"
   ]
  },
  {
   "cell_type": "markdown",
   "metadata": {},
   "source": [
    "#### ID Columns\n",
    "Since each row represents one appointment, I can drop the appointment and patient id columns."
   ]
  },
  {
   "cell_type": "code",
   "execution_count": 22,
   "metadata": {},
   "outputs": [],
   "source": [
    "# Drop appointment and patient id columns\n",
    "df_prep.drop(columns=['appointmentid', 'patientid'], inplace=True)"
   ]
  },
  {
   "cell_type": "markdown",
   "metadata": {},
   "source": [
    "### Date Feature Engineering\n",
    " \n",
    "Discrete dates will not be helpful for predicting future no-shows. The day of the week that the appointment was scheduled or that the patient called to schedule may be relevant. Columns with this data will be created. The time lapse between when the appointment is made and the appointment date likely does have a relationship with no shows. A time lapse column will be created to leverage the date information.\n",
    "\n",
    " * Need to be converted to DateTime\n",
    " * Extract day of the week for `scheduled_day` and `appointment_day`\n",
    " * Create new int col for number of days between scheduled and appt\n",
    " * Drop date columns"
   ]
  },
  {
   "cell_type": "code",
   "execution_count": 23,
   "metadata": {},
   "outputs": [
    {
     "data": {
      "text/html": [
       "<div>\n",
       "<style scoped>\n",
       "    .dataframe tbody tr th:only-of-type {\n",
       "        vertical-align: middle;\n",
       "    }\n",
       "\n",
       "    .dataframe tbody tr th {\n",
       "        vertical-align: top;\n",
       "    }\n",
       "\n",
       "    .dataframe thead th {\n",
       "        text-align: right;\n",
       "    }\n",
       "</style>\n",
       "<table border=\"1\" class=\"dataframe\">\n",
       "  <thead>\n",
       "    <tr style=\"text-align: right;\">\n",
       "      <th></th>\n",
       "      <th>gender</th>\n",
       "      <th>scheduled_day</th>\n",
       "      <th>appointment_day</th>\n",
       "      <th>age</th>\n",
       "      <th>neighbourhood</th>\n",
       "      <th>scholarship</th>\n",
       "      <th>hypertension</th>\n",
       "      <th>diabetes</th>\n",
       "      <th>alcoholism</th>\n",
       "      <th>disability_count</th>\n",
       "      <th>sms_received</th>\n",
       "      <th>no_show</th>\n",
       "    </tr>\n",
       "  </thead>\n",
       "  <tbody>\n",
       "    <tr>\n",
       "      <th>0</th>\n",
       "      <td>F</td>\n",
       "      <td>2016-04-29 18:38:08+00:00</td>\n",
       "      <td>2016-04-29 00:00:00+00:00</td>\n",
       "      <td>62</td>\n",
       "      <td>JARDIM DA PENHA</td>\n",
       "      <td>0</td>\n",
       "      <td>1</td>\n",
       "      <td>0</td>\n",
       "      <td>0</td>\n",
       "      <td>0</td>\n",
       "      <td>0</td>\n",
       "      <td>No</td>\n",
       "    </tr>\n",
       "    <tr>\n",
       "      <th>1</th>\n",
       "      <td>M</td>\n",
       "      <td>2016-04-29 16:08:27+00:00</td>\n",
       "      <td>2016-04-29 00:00:00+00:00</td>\n",
       "      <td>56</td>\n",
       "      <td>JARDIM DA PENHA</td>\n",
       "      <td>0</td>\n",
       "      <td>0</td>\n",
       "      <td>0</td>\n",
       "      <td>0</td>\n",
       "      <td>0</td>\n",
       "      <td>0</td>\n",
       "      <td>No</td>\n",
       "    </tr>\n",
       "    <tr>\n",
       "      <th>2</th>\n",
       "      <td>F</td>\n",
       "      <td>2016-04-29 16:19:04+00:00</td>\n",
       "      <td>2016-04-29 00:00:00+00:00</td>\n",
       "      <td>62</td>\n",
       "      <td>MATA DA PRAIA</td>\n",
       "      <td>0</td>\n",
       "      <td>0</td>\n",
       "      <td>0</td>\n",
       "      <td>0</td>\n",
       "      <td>0</td>\n",
       "      <td>0</td>\n",
       "      <td>No</td>\n",
       "    </tr>\n",
       "    <tr>\n",
       "      <th>3</th>\n",
       "      <td>F</td>\n",
       "      <td>2016-04-29 17:29:31+00:00</td>\n",
       "      <td>2016-04-29 00:00:00+00:00</td>\n",
       "      <td>8</td>\n",
       "      <td>PONTAL DE CAMBURI</td>\n",
       "      <td>0</td>\n",
       "      <td>0</td>\n",
       "      <td>0</td>\n",
       "      <td>0</td>\n",
       "      <td>0</td>\n",
       "      <td>0</td>\n",
       "      <td>No</td>\n",
       "    </tr>\n",
       "    <tr>\n",
       "      <th>4</th>\n",
       "      <td>F</td>\n",
       "      <td>2016-04-29 16:07:23+00:00</td>\n",
       "      <td>2016-04-29 00:00:00+00:00</td>\n",
       "      <td>56</td>\n",
       "      <td>JARDIM DA PENHA</td>\n",
       "      <td>0</td>\n",
       "      <td>1</td>\n",
       "      <td>1</td>\n",
       "      <td>0</td>\n",
       "      <td>0</td>\n",
       "      <td>0</td>\n",
       "      <td>No</td>\n",
       "    </tr>\n",
       "  </tbody>\n",
       "</table>\n",
       "</div>"
      ],
      "text/plain": [
       "  gender             scheduled_day           appointment_day  age  \\\n",
       "0      F 2016-04-29 18:38:08+00:00 2016-04-29 00:00:00+00:00   62   \n",
       "1      M 2016-04-29 16:08:27+00:00 2016-04-29 00:00:00+00:00   56   \n",
       "2      F 2016-04-29 16:19:04+00:00 2016-04-29 00:00:00+00:00   62   \n",
       "3      F 2016-04-29 17:29:31+00:00 2016-04-29 00:00:00+00:00    8   \n",
       "4      F 2016-04-29 16:07:23+00:00 2016-04-29 00:00:00+00:00   56   \n",
       "\n",
       "       neighbourhood  scholarship  hypertension  diabetes  alcoholism  \\\n",
       "0    JARDIM DA PENHA            0             1         0           0   \n",
       "1    JARDIM DA PENHA            0             0         0           0   \n",
       "2      MATA DA PRAIA            0             0         0           0   \n",
       "3  PONTAL DE CAMBURI            0             0         0           0   \n",
       "4    JARDIM DA PENHA            0             1         1           0   \n",
       "\n",
       "   disability_count  sms_received no_show  \n",
       "0                 0             0      No  \n",
       "1                 0             0      No  \n",
       "2                 0             0      No  \n",
       "3                 0             0      No  \n",
       "4                 0             0      No  "
      ]
     },
     "execution_count": 23,
     "metadata": {},
     "output_type": "execute_result"
    }
   ],
   "source": [
    "# convert to DateTime\n",
    "df_prep['scheduled_day'] = pd.to_datetime(df_prep['scheduled_day'])\n",
    "df_prep['appointment_day'] = pd.to_datetime(df_prep['appointment_day'])\n",
    "df_prep.head()"
   ]
  },
  {
   "cell_type": "code",
   "execution_count": 24,
   "metadata": {},
   "outputs": [
    {
     "data": {
      "text/plain": [
       "min   2016-04-29 00:00:00+00:00\n",
       "max   2016-06-08 00:00:00+00:00\n",
       "Name: appointment_day, dtype: datetime64[ns, UTC]"
      ]
     },
     "execution_count": 24,
     "metadata": {},
     "output_type": "execute_result"
    }
   ],
   "source": [
    "# What is the range of dates for the set?\n",
    "df_prep['appointment_day'].agg(['min', 'max'])"
   ]
  },
  {
   "cell_type": "code",
   "execution_count": 25,
   "metadata": {},
   "outputs": [],
   "source": [
    "# Could the day of the week for scheduling or the appointment day be relevant?\n",
    "df_prep['appointment_weekday'] = df_prep['appointment_day'].dt.dayofweek\n",
    "df_prep['scheduled_weekday'] = df_prep['scheduled_day'].dt.dayofweek"
   ]
  },
  {
   "cell_type": "code",
   "execution_count": 26,
   "metadata": {},
   "outputs": [
    {
     "data": {
      "text/html": [
       "<div>\n",
       "<style scoped>\n",
       "    .dataframe tbody tr th:only-of-type {\n",
       "        vertical-align: middle;\n",
       "    }\n",
       "\n",
       "    .dataframe tbody tr th {\n",
       "        vertical-align: top;\n",
       "    }\n",
       "\n",
       "    .dataframe thead th {\n",
       "        text-align: right;\n",
       "    }\n",
       "</style>\n",
       "<table border=\"1\" class=\"dataframe\">\n",
       "  <thead>\n",
       "    <tr style=\"text-align: right;\">\n",
       "      <th></th>\n",
       "      <th>gender</th>\n",
       "      <th>scheduled_day</th>\n",
       "      <th>appointment_day</th>\n",
       "      <th>age</th>\n",
       "      <th>neighbourhood</th>\n",
       "      <th>scholarship</th>\n",
       "      <th>hypertension</th>\n",
       "      <th>diabetes</th>\n",
       "      <th>alcoholism</th>\n",
       "      <th>disability_count</th>\n",
       "      <th>sms_received</th>\n",
       "      <th>no_show</th>\n",
       "      <th>appointment_weekday</th>\n",
       "      <th>scheduled_weekday</th>\n",
       "    </tr>\n",
       "  </thead>\n",
       "  <tbody>\n",
       "    <tr>\n",
       "      <th>0</th>\n",
       "      <td>F</td>\n",
       "      <td>2016-04-29 18:38:08+00:00</td>\n",
       "      <td>2016-04-29 00:00:00+00:00</td>\n",
       "      <td>62</td>\n",
       "      <td>JARDIM DA PENHA</td>\n",
       "      <td>0</td>\n",
       "      <td>1</td>\n",
       "      <td>0</td>\n",
       "      <td>0</td>\n",
       "      <td>0</td>\n",
       "      <td>0</td>\n",
       "      <td>No</td>\n",
       "      <td>4</td>\n",
       "      <td>4</td>\n",
       "    </tr>\n",
       "    <tr>\n",
       "      <th>1</th>\n",
       "      <td>M</td>\n",
       "      <td>2016-04-29 16:08:27+00:00</td>\n",
       "      <td>2016-04-29 00:00:00+00:00</td>\n",
       "      <td>56</td>\n",
       "      <td>JARDIM DA PENHA</td>\n",
       "      <td>0</td>\n",
       "      <td>0</td>\n",
       "      <td>0</td>\n",
       "      <td>0</td>\n",
       "      <td>0</td>\n",
       "      <td>0</td>\n",
       "      <td>No</td>\n",
       "      <td>4</td>\n",
       "      <td>4</td>\n",
       "    </tr>\n",
       "    <tr>\n",
       "      <th>2</th>\n",
       "      <td>F</td>\n",
       "      <td>2016-04-29 16:19:04+00:00</td>\n",
       "      <td>2016-04-29 00:00:00+00:00</td>\n",
       "      <td>62</td>\n",
       "      <td>MATA DA PRAIA</td>\n",
       "      <td>0</td>\n",
       "      <td>0</td>\n",
       "      <td>0</td>\n",
       "      <td>0</td>\n",
       "      <td>0</td>\n",
       "      <td>0</td>\n",
       "      <td>No</td>\n",
       "      <td>4</td>\n",
       "      <td>4</td>\n",
       "    </tr>\n",
       "    <tr>\n",
       "      <th>3</th>\n",
       "      <td>F</td>\n",
       "      <td>2016-04-29 17:29:31+00:00</td>\n",
       "      <td>2016-04-29 00:00:00+00:00</td>\n",
       "      <td>8</td>\n",
       "      <td>PONTAL DE CAMBURI</td>\n",
       "      <td>0</td>\n",
       "      <td>0</td>\n",
       "      <td>0</td>\n",
       "      <td>0</td>\n",
       "      <td>0</td>\n",
       "      <td>0</td>\n",
       "      <td>No</td>\n",
       "      <td>4</td>\n",
       "      <td>4</td>\n",
       "    </tr>\n",
       "    <tr>\n",
       "      <th>4</th>\n",
       "      <td>F</td>\n",
       "      <td>2016-04-29 16:07:23+00:00</td>\n",
       "      <td>2016-04-29 00:00:00+00:00</td>\n",
       "      <td>56</td>\n",
       "      <td>JARDIM DA PENHA</td>\n",
       "      <td>0</td>\n",
       "      <td>1</td>\n",
       "      <td>1</td>\n",
       "      <td>0</td>\n",
       "      <td>0</td>\n",
       "      <td>0</td>\n",
       "      <td>No</td>\n",
       "      <td>4</td>\n",
       "      <td>4</td>\n",
       "    </tr>\n",
       "  </tbody>\n",
       "</table>\n",
       "</div>"
      ],
      "text/plain": [
       "  gender             scheduled_day           appointment_day  age  \\\n",
       "0      F 2016-04-29 18:38:08+00:00 2016-04-29 00:00:00+00:00   62   \n",
       "1      M 2016-04-29 16:08:27+00:00 2016-04-29 00:00:00+00:00   56   \n",
       "2      F 2016-04-29 16:19:04+00:00 2016-04-29 00:00:00+00:00   62   \n",
       "3      F 2016-04-29 17:29:31+00:00 2016-04-29 00:00:00+00:00    8   \n",
       "4      F 2016-04-29 16:07:23+00:00 2016-04-29 00:00:00+00:00   56   \n",
       "\n",
       "       neighbourhood  scholarship  hypertension  diabetes  alcoholism  \\\n",
       "0    JARDIM DA PENHA            0             1         0           0   \n",
       "1    JARDIM DA PENHA            0             0         0           0   \n",
       "2      MATA DA PRAIA            0             0         0           0   \n",
       "3  PONTAL DE CAMBURI            0             0         0           0   \n",
       "4    JARDIM DA PENHA            0             1         1           0   \n",
       "\n",
       "   disability_count  sms_received no_show  appointment_weekday  \\\n",
       "0                 0             0      No                    4   \n",
       "1                 0             0      No                    4   \n",
       "2                 0             0      No                    4   \n",
       "3                 0             0      No                    4   \n",
       "4                 0             0      No                    4   \n",
       "\n",
       "   scheduled_weekday  \n",
       "0                  4  \n",
       "1                  4  \n",
       "2                  4  \n",
       "3                  4  \n",
       "4                  4  "
      ]
     },
     "execution_count": 26,
     "metadata": {},
     "output_type": "execute_result"
    }
   ],
   "source": [
    "df_prep.head()"
   ]
  },
  {
   "cell_type": "code",
   "execution_count": 27,
   "metadata": {},
   "outputs": [
    {
     "data": {
      "image/png": "[encoded data removed]",
      "text/plain": [
       "<Figure size 432x288 with 1 Axes>"
      ]
     },
     "metadata": {
      "needs_background": "light"
     },
     "output_type": "display_data"
    }
   ],
   "source": [
    "sns.countplot(data=df_prep, x='appointment_weekday');"
   ]
  },
  {
   "cell_type": "code",
   "execution_count": 28,
   "metadata": {},
   "outputs": [
    {
     "data": {
      "image/png": "[encoded data removed]",
      "text/plain": [
       "<Figure size 432x288 with 1 Axes>"
      ]
     },
     "metadata": {
      "needs_background": "light"
     },
     "output_type": "display_data"
    }
   ],
   "source": [
    "sns.countplot(data=df_prep, x='scheduled_weekday');"
   ]
  },
  {
   "cell_type": "code",
   "execution_count": 29,
   "metadata": {},
   "outputs": [
    {
     "data": {
      "text/plain": [
       "count    110521.000000\n",
       "mean          9.183721\n",
       "std          15.255082\n",
       "min          -7.000000\n",
       "25%          -1.000000\n",
       "50%           3.000000\n",
       "75%          14.000000\n",
       "max         178.000000\n",
       "Name: days_between, dtype: float64"
      ]
     },
     "execution_count": 29,
     "metadata": {},
     "output_type": "execute_result"
    }
   ],
   "source": [
    "# Create new column for the number of days between scheduling and the actual appointment. \n",
    "df_prep['days_between'] = (df_prep['appointment_day'] - df_prep['scheduled_day']).dt.days.astype(int)\n",
    "\n",
    "#View the statistical information about the new column.\n",
    "df_prep['days_between'].describe()"
   ]
  },
  {
   "cell_type": "markdown",
   "metadata": {},
   "source": [
    "Appointment_day does not have time included but scheduled_day does. This is causing a -1 in days_between. This value should be 0 to indicate that the appointment was scheduled on the same day. Any rows with a negative number after -1 has been replaced with 0 are erroneous and need to be removed."
   ]
  },
  {
   "cell_type": "code",
   "execution_count": 30,
   "metadata": {},
   "outputs": [],
   "source": [
    "# Replace rows with -1 for same day with 0\n",
    "df_prep['days_between'].replace(-1, 0, inplace=True)"
   ]
  },
  {
   "cell_type": "code",
   "execution_count": 31,
   "metadata": {},
   "outputs": [],
   "source": [
    "# Drop rows with appointment dates prior to scheduling dates\n",
    "df_prep.drop(df_prep[df_prep['days_between'] < 0].index, inplace = True)"
   ]
  },
  {
   "cell_type": "code",
   "execution_count": 32,
   "metadata": {},
   "outputs": [
    {
     "data": {
      "text/plain": [
       "count    110516.000000\n",
       "mean          9.533190\n",
       "std          15.028018\n",
       "min           0.000000\n",
       "25%           0.000000\n",
       "50%           3.000000\n",
       "75%          14.000000\n",
       "max         178.000000\n",
       "Name: days_between, dtype: float64"
      ]
     },
     "execution_count": 32,
     "metadata": {},
     "output_type": "execute_result"
    }
   ],
   "source": [
    "# Verify\n",
    "df_prep['days_between'].describe()"
   ]
  },
  {
   "cell_type": "code",
   "execution_count": 33,
   "metadata": {},
   "outputs": [
    {
     "data": {
      "text/html": [
       "<div>\n",
       "<style scoped>\n",
       "    .dataframe tbody tr th:only-of-type {\n",
       "        vertical-align: middle;\n",
       "    }\n",
       "\n",
       "    .dataframe tbody tr th {\n",
       "        vertical-align: top;\n",
       "    }\n",
       "\n",
       "    .dataframe thead th {\n",
       "        text-align: right;\n",
       "    }\n",
       "</style>\n",
       "<table border=\"1\" class=\"dataframe\">\n",
       "  <thead>\n",
       "    <tr style=\"text-align: right;\">\n",
       "      <th></th>\n",
       "      <th>gender</th>\n",
       "      <th>age</th>\n",
       "      <th>neighbourhood</th>\n",
       "      <th>scholarship</th>\n",
       "      <th>hypertension</th>\n",
       "      <th>diabetes</th>\n",
       "      <th>alcoholism</th>\n",
       "      <th>disability_count</th>\n",
       "      <th>sms_received</th>\n",
       "      <th>no_show</th>\n",
       "      <th>appointment_weekday</th>\n",
       "      <th>scheduled_weekday</th>\n",
       "      <th>days_between</th>\n",
       "    </tr>\n",
       "  </thead>\n",
       "  <tbody>\n",
       "    <tr>\n",
       "      <th>0</th>\n",
       "      <td>F</td>\n",
       "      <td>62</td>\n",
       "      <td>JARDIM DA PENHA</td>\n",
       "      <td>0</td>\n",
       "      <td>1</td>\n",
       "      <td>0</td>\n",
       "      <td>0</td>\n",
       "      <td>0</td>\n",
       "      <td>0</td>\n",
       "      <td>No</td>\n",
       "      <td>4</td>\n",
       "      <td>4</td>\n",
       "      <td>0</td>\n",
       "    </tr>\n",
       "    <tr>\n",
       "      <th>1</th>\n",
       "      <td>M</td>\n",
       "      <td>56</td>\n",
       "      <td>JARDIM DA PENHA</td>\n",
       "      <td>0</td>\n",
       "      <td>0</td>\n",
       "      <td>0</td>\n",
       "      <td>0</td>\n",
       "      <td>0</td>\n",
       "      <td>0</td>\n",
       "      <td>No</td>\n",
       "      <td>4</td>\n",
       "      <td>4</td>\n",
       "      <td>0</td>\n",
       "    </tr>\n",
       "    <tr>\n",
       "      <th>2</th>\n",
       "      <td>F</td>\n",
       "      <td>62</td>\n",
       "      <td>MATA DA PRAIA</td>\n",
       "      <td>0</td>\n",
       "      <td>0</td>\n",
       "      <td>0</td>\n",
       "      <td>0</td>\n",
       "      <td>0</td>\n",
       "      <td>0</td>\n",
       "      <td>No</td>\n",
       "      <td>4</td>\n",
       "      <td>4</td>\n",
       "      <td>0</td>\n",
       "    </tr>\n",
       "    <tr>\n",
       "      <th>3</th>\n",
       "      <td>F</td>\n",
       "      <td>8</td>\n",
       "      <td>PONTAL DE CAMBURI</td>\n",
       "      <td>0</td>\n",
       "      <td>0</td>\n",
       "      <td>0</td>\n",
       "      <td>0</td>\n",
       "      <td>0</td>\n",
       "      <td>0</td>\n",
       "      <td>No</td>\n",
       "      <td>4</td>\n",
       "      <td>4</td>\n",
       "      <td>0</td>\n",
       "    </tr>\n",
       "    <tr>\n",
       "      <th>4</th>\n",
       "      <td>F</td>\n",
       "      <td>56</td>\n",
       "      <td>JARDIM DA PENHA</td>\n",
       "      <td>0</td>\n",
       "      <td>1</td>\n",
       "      <td>1</td>\n",
       "      <td>0</td>\n",
       "      <td>0</td>\n",
       "      <td>0</td>\n",
       "      <td>No</td>\n",
       "      <td>4</td>\n",
       "      <td>4</td>\n",
       "      <td>0</td>\n",
       "    </tr>\n",
       "  </tbody>\n",
       "</table>\n",
       "</div>"
      ],
      "text/plain": [
       "  gender  age      neighbourhood  scholarship  hypertension  diabetes  \\\n",
       "0      F   62    JARDIM DA PENHA            0             1         0   \n",
       "1      M   56    JARDIM DA PENHA            0             0         0   \n",
       "2      F   62      MATA DA PRAIA            0             0         0   \n",
       "3      F    8  PONTAL DE CAMBURI            0             0         0   \n",
       "4      F   56    JARDIM DA PENHA            0             1         1   \n",
       "\n",
       "   alcoholism  disability_count  sms_received no_show  appointment_weekday  \\\n",
       "0           0                 0             0      No                    4   \n",
       "1           0                 0             0      No                    4   \n",
       "2           0                 0             0      No                    4   \n",
       "3           0                 0             0      No                    4   \n",
       "4           0                 0             0      No                    4   \n",
       "\n",
       "   scheduled_weekday  days_between  \n",
       "0                  4             0  \n",
       "1                  4             0  \n",
       "2                  4             0  \n",
       "3                  4             0  \n",
       "4                  4             0  "
      ]
     },
     "execution_count": 33,
     "metadata": {},
     "output_type": "execute_result"
    }
   ],
   "source": [
    "# Drop date columns\n",
    "df_prep.drop(columns=['appointment_day', 'scheduled_day'], inplace=True)\n",
    "df_prep.head()"
   ]
  },
  {
   "cell_type": "code",
   "execution_count": 34,
   "metadata": {},
   "outputs": [
    {
     "data": {
      "image/png": "[encoded data removed]",
      "text/plain": [
       "<Figure size 842.4x360 with 1 Axes>"
      ]
     },
     "metadata": {
      "needs_background": "light"
     },
     "output_type": "display_data"
    }
   ],
   "source": [
    "# distribution of days between\n",
    "# Note: This data is highly skewed and will require transformation\n",
    "plot_hist(df_prep, 'days_between', 10)"
   ]
  },
  {
   "cell_type": "code",
   "execution_count": 35,
   "metadata": {},
   "outputs": [
    {
     "data": {
      "image/png": "[encoded data removed]",
      "text/plain": [
       "<Figure size 842.4x360 with 1 Axes>"
      ]
     },
     "metadata": {
      "needs_background": "light"
     },
     "output_type": "display_data"
    }
   ],
   "source": [
    "# distribution of days between greater than approximately 2 std above the mean\n",
    "plot_hist(df_prep[df_prep['days_between'] >= 40], 'days_between', 2)"
   ]
  },
  {
   "cell_type": "code",
   "execution_count": 36,
   "metadata": {
    "tags": []
   },
   "outputs": [],
   "source": [
    "# Make a pre-dummies dataframe for EDA\n",
    "df_eda = df_prep.copy()\n",
    "df_engineer = df_prep.copy()"
   ]
  },
  {
   "cell_type": "markdown",
   "metadata": {},
   "source": [
    "<a id='eda'></a>\n",
    "## Exploratory Data Analysis"
   ]
  },
  {
   "cell_type": "code",
   "execution_count": null,
   "metadata": {},
   "outputs": [],
   "source": [
    "# Create a truncated copy of the DataFrame with no neighbourhood columns\n",
    "df_eda.head()"
   ]
  },
  {
   "cell_type": "code",
   "execution_count": null,
   "metadata": {},
   "outputs": [],
   "source": [
    "def plot_proportion(column):\n",
    "    fig, ax = plt.subplots(figsize=[10,5])\n",
    "    sns.countplot(x=column, data=df_eda, hue='no_show', stat='proportion');\n",
    "    ax.legend(labels=['No', 'Yes'], title='Did the patient No Show?')\n",
    "    for container in ax.containers:\n",
    "        ax.bar_label(container)"
   ]
  },
  {
   "cell_type": "code",
   "execution_count": null,
   "metadata": {},
   "outputs": [],
   "source": [
    "# Proportion of no shows by gender\n",
    "plot_proportion('gender')"
   ]
  },
  {
   "cell_type": "code",
   "execution_count": null,
   "metadata": {},
   "outputs": [],
   "source": [
    "# Proportion of no shows by age\n",
    "plot_proportion('age')"
   ]
  },
  {
   "cell_type": "code",
   "execution_count": null,
   "metadata": {},
   "outputs": [],
   "source": [
    "fig, axes = plt.subplots(nrows=6, ncols=2, sharey=True, figsize=[15,12])\n",
    "\n",
    "def plot_proportion(column, ax):\n",
    "    sns.countplot(x=column, data=df_eda, hue='no_show', stat='proportion', ax=ax);\n",
    "\n",
    "for i, column in enumerate(df_eda.columns):\n",
    "    row = i //2\n",
    "    col = i % 2\n",
    "    ax = axes[row, col]\n",
    "    plot_proportion(column, ax)"
   ]
  },
  {
   "cell_type": "code",
   "execution_count": null,
   "metadata": {},
   "outputs": [],
   "source": [
    "for i, col in enumerate(df_eda.columns):\n",
    "    print (i, col)"
   ]
  },
  {
   "cell_type": "code",
   "execution_count": null,
   "metadata": {},
   "outputs": [],
   "source": [
    "axes.flatten()"
   ]
  },
  {
   "cell_type": "code",
   "execution_count": null,
   "metadata": {},
   "outputs": [],
   "source": [
    "fig = plt.figure()\n",
    "example_list = [[1,2,3],[4,5,6],[3,2,5],[5,2,3],[1,3,1],[5,3,5]]\n",
    "\n",
    "for i,data in enumerate(example_list):\n",
    "    ax = plt.subplot(2,3,i+1)\n",
    "    ax.plot(data)"
   ]
  },
  {
   "cell_type": "code",
   "execution_count": null,
   "metadata": {},
   "outputs": [],
   "source": [
    "def draw_line(ax,array):\n",
    "    # fig, ax = plt.subplots()\n",
    "    ax.plot(array)\n",
    "\n",
    "# example data and figure\n",
    "example_list = [[1,2,3],[4,5,6],[3,2,5],[3,2,5],[3,2,5],[3,2,5]]\n",
    "fig, axes = plt.subplots(nrows=2, ncols=3)\n",
    "\n",
    "# loop over elements in subplot and data, plot each one\n",
    "for ax,i in zip(axes.flatten(),example_list):\n",
    "    draw_line(ax,i) "
   ]
  },
  {
   "cell_type": "code",
   "execution_count": null,
   "metadata": {},
   "outputs": [],
   "source": [
    "df_eda.column()"
   ]
  },
  {
   "cell_type": "code",
   "execution_count": null,
   "metadata": {},
   "outputs": [],
   "source": [
    "eda_columns = list(df_eda.columns)\n",
    "eda_columns"
   ]
  },
  {
   "cell_type": "code",
   "execution_count": null,
   "metadata": {},
   "outputs": [],
   "source": [
    "fig, ax = plt.subplots(\n",
    "    \n",
    "    \n",
    "for col in \n",
    "    i=0"
   ]
  },
  {
   "cell_type": "code",
   "execution_count": null,
   "metadata": {},
   "outputs": [],
   "source": [
    "sns.countplot(x='gender', data=df_eda, hue='no_show', stat='percent');"
   ]
  },
  {
   "cell_type": "markdown",
   "metadata": {},
   "source": [
    "Create functions for charting the data."
   ]
  },
  {
   "cell_type": "code",
   "execution_count": null,
   "metadata": {},
   "outputs": [],
   "source": [
    "col_colors = ['blue', 'green'] # initialize col_colors for the columns"
   ]
  },
  {
   "cell_type": "code",
   "execution_count": null,
   "metadata": {},
   "outputs": [],
   "source": [
    "def appt_count(col): ## creates a bar plot of a column \n",
    "    sns.countplot(x=col, data=df_eda, hue='no_show', stat='percent');\n",
    "    plt.title('Proportion No-Showed')\n",
    "    \n",
    "def pie_chart(col): ## creates a pie chart for the overall percentage of each value of a column\n",
    "    df[col].value_counts().plot(kind='pie', \n",
    "                                autopct='%1.1f%%', \n",
    "                                colors=col_colors,\n",
    "                                );\n",
    "        \n",
    "def noShowFactor(col): ## creates a figure with both the pie chart and the bar chart\n",
    "    my_ticks = list(pd.unique(df_eda[col])) \n",
    "    \n",
    "    plt.figure(figsize=(20, 8)) # define size of figure\n",
    "    plt.subplot(1,2,1) # defines orientation - one row, 2 subplots, first position (left)\n",
    "    pie_chart(col)\n",
    "        \n",
    "    plt.subplot(1, 2, 2) # defines orientation - one row, 2 subplots, second position (right)\n",
    "    appt_count(col)"
   ]
  },
  {
   "cell_type": "code",
   "execution_count": null,
   "metadata": {},
   "outputs": [],
   "source": [
    "pie_chart('gender')"
   ]
  },
  {
   "cell_type": "markdown",
   "metadata": {},
   "source": [
    "### Research Question 1: Which factors or characteristics have a positive relationship with no shows?"
   ]
  },
  {
   "cell_type": "markdown",
   "metadata": {},
   "source": [
    "#### Overview of No Shows for all appointments\n",
    "\n",
    "How many and what percent of the appointments are no shows?"
   ]
  },
  {
   "cell_type": "code",
   "execution_count": null,
   "metadata": {},
   "outputs": [],
   "source": [
    "ns_labels = ['Attended', 'Did Not Attend'] # labels for both pie chart and bar chart\n",
    "ns_heights = df['no_show'].value_counts() # number of rows sorted by no_show\n",
    "\n",
    "plt.figure(figsize = [20,8]) # define size of figure\n",
    "plt.subplot(1, 2, 1) # defines orientation - one row, 2 subplots, first position (left)\n",
    "g1 = pie_chart('no_show', 'Attendance Percentage of All Appointments', ns_labels)\n",
    "plt.legend()\n",
    "\n",
    "plt.subplot(1, 2, 2) # defines orientation - one row, 2 subplots, second position (right)\n",
    "g2 = appt_count(ns_heights, 'Overall Appointment Attendance', 'Attendance', 'Number of Appointments', ns_labels)"
   ]
  },
  {
   "cell_type": "markdown",
   "metadata": {},
   "source": [
    "Patients no showed for approximately 20% or 1/5 of the scheduled appointments, without taking any other factors into consideration. "
   ]
  },
  {
   "cell_type": "markdown",
   "metadata": {},
   "source": [
    "Lets breakdown no shows based on other personal characteristics."
   ]
  },
  {
   "cell_type": "markdown",
   "metadata": {},
   "source": [
    "#### Gender"
   ]
  },
  {
   "cell_type": "code",
   "execution_count": null,
   "metadata": {},
   "outputs": [],
   "source": [
    "sns.countplot(x='Gender', data=df, hue='No-show')"
   ]
  },
  {
   "cell_type": "markdown",
   "metadata": {},
   "source": [
    "More appointments were for women. The proportion of no shows by gender appears to be roughly even."
   ]
  },
  {
   "cell_type": "markdown",
   "metadata": {},
   "source": [
    "#### Age"
   ]
  },
  {
   "cell_type": "code",
   "execution_count": null,
   "metadata": {},
   "outputs": [],
   "source": [
    "age_heights = char_proportion('age')\n",
    "age_ticks = age_heights.index\n",
    "plt.figure(figsize=(26,8))\n",
    "nocolor_appt_count(age_heights, 'Comparison of Appointment No Shows by Age', 'Age in Years', 'Proportion of No Shows', age_ticks)\n"
   ]
  },
  {
   "cell_type": "markdown",
   "metadata": {},
   "source": [
    "There appears to be a positive skew indicating that younger ages have a higher percentage of no shows. There are, however, clear outliers in the older ages."
   ]
  },
  {
   "cell_type": "markdown",
   "metadata": {},
   "source": [
    "#### Enrollment in Bolsa Familia (Scholarship)"
   ]
  },
  {
   "cell_type": "code",
   "execution_count": null,
   "metadata": {},
   "outputs": [],
   "source": [
    "noShowFactor('scholarship', \n",
    "             'Comparison of Appointment No Shows by Enrollment in Bolsa Familia', \n",
    "             'Percentage of Bolsa Familia Enrollment for All Appointments', \n",
    "             'Bolsa Familia Status', \n",
    "             'Proportion of No Shows')"
   ]
  },
  {
   "cell_type": "markdown",
   "metadata": {},
   "source": [
    "Only about 10% of appointments were for patients enrolled in Bolsa Familia and thus considered to be living in poverty or extreme poverty. These patients had a higher no show rate than patients not enrolled."
   ]
  },
  {
   "cell_type": "markdown",
   "metadata": {},
   "source": [
    "#### Hypertension"
   ]
  },
  {
   "cell_type": "code",
   "execution_count": null,
   "metadata": {},
   "outputs": [],
   "source": [
    "noShowFactor('hypertension', \n",
    "             'Comparison of Appointment No Shows by Hypertension Status', \n",
    "             'Percentage of Hypertension Status for All Appointments', \n",
    "             'Hypertension Status', \n",
    "             'Proportion of No Shows')"
   ]
  },
  {
   "cell_type": "markdown",
   "metadata": {},
   "source": [
    "Patients with hypertension had close to 20% of the scheduled appointments. These patients had a lower no show rate than patients without hypertension."
   ]
  },
  {
   "cell_type": "markdown",
   "metadata": {},
   "source": [
    "#### Diabetes"
   ]
  },
  {
   "cell_type": "code",
   "execution_count": null,
   "metadata": {},
   "outputs": [],
   "source": [
    "noShowFactor('diabetes', \n",
    "             'Comparison of Appointment No Shows by Diabetes Status', \n",
    "             'Percentage of Diabetes Status for All Appointments', \n",
    "             'Diabetes Status', \n",
    "             'Proportion of No Shows')"
   ]
  },
  {
   "cell_type": "markdown",
   "metadata": {},
   "source": [
    "Only 7.2% of appointments were for patients with diabetes. Patients with diabetes had a lower proportion of missed appointments."
   ]
  },
  {
   "cell_type": "markdown",
   "metadata": {},
   "source": [
    "#### Alcoholism"
   ]
  },
  {
   "cell_type": "code",
   "execution_count": null,
   "metadata": {},
   "outputs": [],
   "source": [
    "noShowFactor('alcoholism', \n",
    "             'Comparison of Appointment No Shows by Alcoholism Status', \n",
    "             'Percentage of Alcoholism Status for All Appointments', \n",
    "             'Alcoholism Status', \n",
    "             'Proportion of No Shows')"
   ]
  },
  {
   "cell_type": "markdown",
   "metadata": {},
   "source": [
    "Appointments for patients with identified alcoholism made up 3% of the total appointments scheduled. The proportion of no shows for these patients was equal to the proportion of patients without alcoholism."
   ]
  },
  {
   "cell_type": "markdown",
   "metadata": {},
   "source": [
    "#### Number of Disabilities"
   ]
  },
  {
   "cell_type": "code",
   "execution_count": null,
   "metadata": {},
   "outputs": [],
   "source": [
    "noShowFactor('disability_count', \n",
    "             'Comparison of Appointment No Shows by Number of Disabilities', \n",
    "             'Percentage of Number of Disabilities for All Appointments', \n",
    "             'Number of Disabilities', \n",
    "             'Proportion of No Shows')"
   ]
  },
  {
   "cell_type": "markdown",
   "metadata": {},
   "source": [
    "The overall percentage of appointments for people with one or more disabilities was 2%, with fewer appointments for people as disabilities increased. The proportion of appointments missed for patients with one disability was lower than patients with none, but the proportion increased from that point. This could reflect the increased difficulties associated with each additional disability the patient had."
   ]
  },
  {
   "cell_type": "markdown",
   "metadata": {},
   "source": [
    "#### Text Message Reminder Received"
   ]
  },
  {
   "cell_type": "code",
   "execution_count": null,
   "metadata": {},
   "outputs": [],
   "source": [
    "noShowFactor('sms_received', \n",
    "             'Comparison of Appointment No Shows by SMS Reminder Receipt', \n",
    "             \"Percentage of SMS Reminder Receipt for All Appointments\", \n",
    "             'SMS Receipt', \n",
    "             'Proportion of No Shows')"
   ]
  },
  {
   "cell_type": "markdown",
   "metadata": {},
   "source": [
    "SMS messages were sent to patients for 32.1% of appointments. Patients who received a text message had a higher proportion of no shows."
   ]
  },
  {
   "cell_type": "markdown",
   "metadata": {},
   "source": [
    "### Research Question 2: Is there a relationship between the length of time between scheduling the appointments and appointment attendance? Do people who receive text message reminders attend more frequently and does this relate no shows to the length of time?"
   ]
  },
  {
   "cell_type": "markdown",
   "metadata": {},
   "source": [
    "I created an additional column for days_between scheduling the appointment and the appointment date during Data Wrangling. I will start by viewing the descriptive statistics for this column."
   ]
  },
  {
   "cell_type": "markdown",
   "metadata": {},
   "source": [
    "#### Days Between Scheduling and the Appointment"
   ]
  },
  {
   "cell_type": "code",
   "execution_count": null,
   "metadata": {},
   "outputs": [],
   "source": [
    "df['days_between'].describe()"
   ]
  },
  {
   "cell_type": "markdown",
   "metadata": {},
   "source": [
    "The max number of days between scheduling and the date of the appointment is 178. However, 75% of appointments were scheduled within 14 days and the standard deviation is 15. I will start by viewing the distribution for all of the days, but will then look at just the days within the first standard deviation."
   ]
  },
  {
   "cell_type": "code",
   "execution_count": null,
   "metadata": {},
   "outputs": [],
   "source": [
    "df['days_between'].hist();"
   ]
  },
  {
   "cell_type": "markdown",
   "metadata": {},
   "source": [
    "As expected, the vast majority of the appointments were scheduled closely to the actual appointment date."
   ]
  },
  {
   "cell_type": "markdown",
   "metadata": {},
   "source": [
    "Diving deeper, here is the distribution of appointments for appointments scheduled within two standard deviations of the scheduling date."
   ]
  },
  {
   "cell_type": "code",
   "execution_count": null,
   "metadata": {},
   "outputs": [],
   "source": [
    "days_df = df.query('days_between <= 30') # also creating a dataframe for appointments scheduled within two standard deviation\n",
    "days_df['days_between'].hist();"
   ]
  },
  {
   "cell_type": "markdown",
   "metadata": {},
   "source": [
    "I can use functions created above to help answer these questions, as well."
   ]
  },
  {
   "cell_type": "markdown",
   "metadata": {},
   "source": [
    "#### Missed Appointments by Number of Days Between Scheduling and the Appointment\n",
    "\n"
   ]
  },
  {
   "cell_type": "code",
   "execution_count": null,
   "metadata": {},
   "outputs": [],
   "source": [
    "days_height = char_proportion('days_between')\n",
    "days_title = 'Proportions of Missed Appointments by Number of Days Between Scheduling and the Appointment'\n",
    "days_xlabel = 'Number of Days Between Scheduling the Appointment and the Appointment Date'\n",
    "days_ylabel = 'Proportion of Missed Appointments'\n",
    "days_ticks = days_height.index\n",
    "\n",
    "plt.figure(figsize=(20,5))\n",
    "nocolor_appt_count(days_height,\n",
    "          days_title,\n",
    "          days_xlabel,\n",
    "          days_ylabel,\n",
    "          days_ticks)\n"
   ]
  },
  {
   "cell_type": "markdown",
   "metadata": {},
   "source": [
    "As evidenced by the chart above, including the days outside even two standard deviations makes the graph unmanageable. As a result, I am going to make a copy of the char_proportion function that allows me to input the desired dataframes. This will allow me to define a function to chart proportions with days_between within two standard deviations."
   ]
  },
  {
   "cell_type": "code",
   "execution_count": null,
   "metadata": {},
   "outputs": [],
   "source": [
    "#Remember:\n",
    "#def char_proportion(col): ## creates a dataframe with the proportions of no shows for each value of a column\n",
    "    #counts = df_noshow.groupby(col).count() # counts the total number of no shows for each value\n",
    "    #char_counts = df.groupby(col).count() # counts the total number of rows with each value\n",
    "    #proportions = counts /char_counts # calculates the proportion\n",
    "    #return proportions['no_show'] \n",
    "    \n",
    "# Take a dataframe where days_between is less than 30 (days_df created above) and create one where no show = True \n",
    "df_days_noshow = days_df.query('no_show == True')\n",
    "    \n",
    "def days_proportion(col, counts_df, char_counts_df ):\n",
    "    days_counts = counts_df.groupby(col).count() # counts the total number of no shows for each value, eg. df_days_noshow\n",
    "    days_char_counts = char_counts_df.groupby(col).count() # counts the total number of rows with each value, eg. days_df\n",
    "    days_proportions = days_counts / days_char_counts # calculates the proportion\n",
    "    return days_proportions['no_show']\n",
    "\n",
    "def prop_days_chart(pdays_height, title):\n",
    "    pdays_title = title\n",
    "    pdays_xlabel = 'Number of Days Between Scheduling the Appointment and the Appointment Date'\n",
    "    pdays_ylabel = 'Proportion of Missed Appointments'\n",
    "    pdays_ticks = pdays_height.index\n",
    "\n",
    "    plt.figure(figsize=(20,6))\n",
    "    appt_count(pdays_height,\n",
    "              pdays_title,\n",
    "              pdays_xlabel,\n",
    "              pdays_ylabel,\n",
    "              pdays_ticks);\n"
   ]
  },
  {
   "cell_type": "markdown",
   "metadata": {},
   "source": [
    "Now use the functions to find the proportions and create a chart of the distribution of the proportions."
   ]
  },
  {
   "cell_type": "code",
   "execution_count": null,
   "metadata": {},
   "outputs": [],
   "source": [
    "overall_days = days_proportion('days_between', df_days_noshow, days_df)\n",
    "\n",
    "prop_days_chart(overall_days, 'Proportions of Missed Appointments by Number of Days Between Scheduling and the Appointment')"
   ]
  },
  {
   "cell_type": "markdown",
   "metadata": {},
   "source": [
    "The distribution of proportions has a slight skew to the left, so there may be some relationship between time lapse and missed appointments."
   ]
  },
  {
   "cell_type": "markdown",
   "metadata": {},
   "source": [
    "#### SMS Messages and No Shows based on the Days Between Scheduling and the Appointment"
   ]
  },
  {
   "cell_type": "markdown",
   "metadata": {},
   "source": [
    "Text messages seemed to have a negative relationship with attendance, above. Do the proportions of attendance change based on whether a text message was received or not?\n",
    "\n",
    "To drill down, the first step is to create dataframes where sms_received was True and and another where it is False. Then, I can chart both to evaluate the difference."
   ]
  },
  {
   "cell_type": "code",
   "execution_count": null,
   "metadata": {},
   "outputs": [],
   "source": [
    "# create a data frame where the appointment was both a no show and the patient received a SMS\n",
    "ns_sms_df = df_days_noshow.query('sms_received == True')\n",
    "# create a data frame where the appointment was a no show and the patient did not receive a SMS\n",
    "ns_nosms_df = df_days_noshow.query('sms_received == False')"
   ]
  },
  {
   "cell_type": "markdown",
   "metadata": {},
   "source": [
    "Now use the functions to find the proportions and create a chart of the distribution of the proportions. I am also adding values for the proportion of no shows for 0 and 1 days between, so the dataframe will match the No Shows without SMS Received data frame."
   ]
  },
  {
   "cell_type": "code",
   "execution_count": null,
   "metadata": {},
   "outputs": [],
   "source": [
    "# calculate the proportions for the No Show with SMS dataframe\n",
    "ns_sms_proportion = days_proportion('days_between', ns_sms_df, days_df)\n",
    "ns_sms_proportion[0] = 0 # add columns for days_between = 0 or 1, as there were no SMS received for these.\n",
    "ns_sms_proportion[1] = 0\n",
    "# create a chart of the proportions for days\n",
    "prop_days_chart(ns_sms_proportion, 'Proportions of Missed Appointments by Number of Days Between Scheduling and the Appointment with a SMS received')"
   ]
  },
  {
   "cell_type": "markdown",
   "metadata": {},
   "source": [
    "This distribution appears to be slightly more skewed to the right."
   ]
  },
  {
   "cell_type": "markdown",
   "metadata": {},
   "source": [
    "Now use the functions to find the proportions and create a chart of the distribution of the proportions of No Show appointments where a SMS message was not received."
   ]
  },
  {
   "cell_type": "code",
   "execution_count": null,
   "metadata": {},
   "outputs": [],
   "source": [
    "# calculate the proportions of no shows without the SMS received\n",
    "ns_nosms_proportion = days_proportion('days_between', ns_nosms_df, days_df)\n",
    "# chart \n",
    "prop_days_chart(ns_nosms_proportion, 'Proportions of Missed Appointments by Number of Days Between Scheduling and the Appointment without a SMS received')"
   ]
  },
  {
   "cell_type": "markdown",
   "metadata": {},
   "source": [
    "This distribution appears to be more evenly distributed."
   ]
  },
  {
   "cell_type": "markdown",
   "metadata": {},
   "source": [
    "Write the code to create the final visualizations for easier view in Conclusions."
   ]
  },
  {
   "cell_type": "code",
   "execution_count": null,
   "metadata": {},
   "outputs": [],
   "source": [
    "def finalagechart():\n",
    "    age_heights = char_proportion('age')\n",
    "\n",
    "    plt.figure(figsize=(16,4))\n",
    "    ax1 = plt.subplot(1,1,1)\n",
    "    ax1.set_ylim(bottom=0, top=0.35)\n",
    "    ax1.set_xlim(left=0, right=105)\n",
    "    ax1.xaxis.set_major_locator(ticker.LinearLocator(8))\n",
    "    ax1 = plt.bar(age_heights.index, age_heights);\n",
    "    plt.title('Comparison of Appointment No Shows by Age')\n",
    "    plt.xlabel('Age in Years')\n",
    "    plt.ylabel('Proportion of No Shows')"
   ]
  },
  {
   "cell_type": "code",
   "execution_count": null,
   "metadata": {},
   "outputs": [],
   "source": [
    "def noShowChart(col, bar_title, my_xlabel, my_ylabel): ## creates a figure with both the pie chart and the bar chart\n",
    "    col_height = char_proportion(col) # returns a dataframe containing the proportion of no shows for the values of the input column\n",
    "    my_ticks = col_height.index  \n",
    "    appt_count(col_height, bar_title, my_xlabel, my_ylabel, my_ticks)"
   ]
  },
  {
   "cell_type": "code",
   "execution_count": null,
   "metadata": {},
   "outputs": [],
   "source": [
    "def finalcharts():\n",
    "    plt.figure(figsize=(20, 16))\n",
    "\n",
    "    ax1 = plt.subplot(3,3,1)\n",
    "    ax1.set_ylim(bottom=0, top=0.35)\n",
    "    ax1 = noShowChart('gender', \n",
    "          'Comparison of Appointment No Shows by Gender', \n",
    "          'Gender', \n",
    "          'Proportion of No Shows')\n",
    "\n",
    "\n",
    "    ax2 = plt.subplot(3,3,2)\n",
    "    ax2.set_ylim(bottom=0, top=0.35)\n",
    "    ax2 = noShowChart('scholarship', \n",
    "          'Comparison of Appointment No Shows by Scholarship Status', \n",
    "          'Bolsa Familia Status', \n",
    "          'Proportion of No Shows')\n",
    "\n",
    "    ax3 = plt.subplot(3,3,3)\n",
    "    ax3.set_ylim(bottom=0, top=0.35)\n",
    "    ax3 = noShowChart('hypertension', \n",
    "          'Comparison of Appointment No Shows by Hypertension Status', \n",
    "          'Hypertension Status', \n",
    "          'Proportion of No Shows')\n",
    "\n",
    "    ax4 = plt.subplot(3,3,4)\n",
    "    ax4.set_ylim(bottom=0, top=0.35)\n",
    "    ax4 = noShowChart('diabetes', \n",
    "             'Comparison of Appointment No Shows by Diabetes Status', \n",
    "             'Diabetes Status', \n",
    "             'Proportion of No Shows')\n",
    "\n",
    "    ax5 = plt.subplot(3,3,5)\n",
    "    ax5.set_ylim(bottom=0, top=0.35)\n",
    "    ax5 = noShowChart('alcoholism', \n",
    "             'Comparison of Appointment No Shows by Alcoholism Status', \n",
    "             'Alcoholism Status', \n",
    "             'Proportion of No Shows')\n",
    "\n",
    "    ax6 = plt.subplot(3,3,6)\n",
    "    ax6.set_ylim(bottom=0, top=0.35)\n",
    "    ax6 = noShowChart('disability_count', \n",
    "             'Comparison of Appointment No Shows by Number of Disabilities',  \n",
    "             'Number of Disabilities', \n",
    "             'Proportion of No Shows')\n",
    "\n",
    "    ax7 = plt.subplot(3,3,7)\n",
    "    ax7.set_ylim(bottom=0, top=0.35)\n",
    "    ax7 = noShowChart('sms_received', \n",
    "             'Comparison of Appointment No Shows by SMS Reminder Receipt',  \n",
    "             'SMS Receipt', \n",
    "             'Proportion of No Shows')"
   ]
  },
  {
   "cell_type": "code",
   "execution_count": null,
   "metadata": {},
   "outputs": [],
   "source": [
    "def finalSMSChart():\n",
    "    ind = np.arange(len(overall_days))\n",
    "    width = 0.25\n",
    "    plt.figure(figsize=(16,4))\n",
    "\n",
    "    bar1 = plt.bar(ind, overall_days, width, label='Overall No Shows')\n",
    "    bar2 = plt.bar(ind + width, ns_sms_proportion, width, label='No Shows and SMS Received')\n",
    "    bar3 = plt.bar(ind + width*2, ns_nosms_proportion, width, label='No Shows and No SMS')\n",
    "    plt.legend()\n",
    "    plt.xticks = overall_days.index\n",
    "    plt.title('Proportion of No Shows by Days Between Scheduling and Appointment Dates')\n",
    "    plt.xlabel('Days Between Scheduling and Appointment Dates')\n",
    "    plt.ylabel('Proportion of No Shows')"
   ]
  },
  {
   "cell_type": "markdown",
   "metadata": {},
   "source": [
    "### Feature Engineering"
   ]
  },
  {
   "cell_type": "markdown",
   "metadata": {},
   "source": [
    "## Further Feature Engineering"
   ]
  },
  {
   "cell_type": "markdown",
   "metadata": {},
   "source": [
    "#### Disability Count\n",
    "`disability_count` is an ordinal variable. As it is an int, no further engineering is required.\n",
    "\n",
    "\n",
    "#### Categorical Variables\n",
    "\n",
    "The rest of the variables are categorical variables. `scholarship`, `hypertension`, `diabetes`, `alcoholism`, and `sms_received` are already integer binary variables, so they require no additional engineering. `no_show` will need to be converted to a binary column. `gender` and `neighbourhood` will need One Hot Encoding later for statistical testing.\n",
    "    "
   ]
  },
  {
   "cell_type": "code",
   "execution_count": 37,
   "metadata": {},
   "outputs": [
    {
     "data": {
      "text/html": [
       "<div>\n",
       "<style scoped>\n",
       "    .dataframe tbody tr th:only-of-type {\n",
       "        vertical-align: middle;\n",
       "    }\n",
       "\n",
       "    .dataframe tbody tr th {\n",
       "        vertical-align: top;\n",
       "    }\n",
       "\n",
       "    .dataframe thead th {\n",
       "        text-align: right;\n",
       "    }\n",
       "</style>\n",
       "<table border=\"1\" class=\"dataframe\">\n",
       "  <thead>\n",
       "    <tr style=\"text-align: right;\">\n",
       "      <th></th>\n",
       "      <th>gender</th>\n",
       "      <th>age</th>\n",
       "      <th>neighbourhood</th>\n",
       "      <th>scholarship</th>\n",
       "      <th>hypertension</th>\n",
       "      <th>diabetes</th>\n",
       "      <th>alcoholism</th>\n",
       "      <th>disability_count</th>\n",
       "      <th>sms_received</th>\n",
       "      <th>no_show</th>\n",
       "      <th>appointment_weekday</th>\n",
       "      <th>scheduled_weekday</th>\n",
       "      <th>days_between</th>\n",
       "    </tr>\n",
       "  </thead>\n",
       "  <tbody>\n",
       "    <tr>\n",
       "      <th>0</th>\n",
       "      <td>F</td>\n",
       "      <td>62</td>\n",
       "      <td>JARDIM DA PENHA</td>\n",
       "      <td>0</td>\n",
       "      <td>1</td>\n",
       "      <td>0</td>\n",
       "      <td>0</td>\n",
       "      <td>0</td>\n",
       "      <td>0</td>\n",
       "      <td>No</td>\n",
       "      <td>4</td>\n",
       "      <td>4</td>\n",
       "      <td>0</td>\n",
       "    </tr>\n",
       "    <tr>\n",
       "      <th>1</th>\n",
       "      <td>M</td>\n",
       "      <td>56</td>\n",
       "      <td>JARDIM DA PENHA</td>\n",
       "      <td>0</td>\n",
       "      <td>0</td>\n",
       "      <td>0</td>\n",
       "      <td>0</td>\n",
       "      <td>0</td>\n",
       "      <td>0</td>\n",
       "      <td>No</td>\n",
       "      <td>4</td>\n",
       "      <td>4</td>\n",
       "      <td>0</td>\n",
       "    </tr>\n",
       "    <tr>\n",
       "      <th>2</th>\n",
       "      <td>F</td>\n",
       "      <td>62</td>\n",
       "      <td>MATA DA PRAIA</td>\n",
       "      <td>0</td>\n",
       "      <td>0</td>\n",
       "      <td>0</td>\n",
       "      <td>0</td>\n",
       "      <td>0</td>\n",
       "      <td>0</td>\n",
       "      <td>No</td>\n",
       "      <td>4</td>\n",
       "      <td>4</td>\n",
       "      <td>0</td>\n",
       "    </tr>\n",
       "    <tr>\n",
       "      <th>3</th>\n",
       "      <td>F</td>\n",
       "      <td>8</td>\n",
       "      <td>PONTAL DE CAMBURI</td>\n",
       "      <td>0</td>\n",
       "      <td>0</td>\n",
       "      <td>0</td>\n",
       "      <td>0</td>\n",
       "      <td>0</td>\n",
       "      <td>0</td>\n",
       "      <td>No</td>\n",
       "      <td>4</td>\n",
       "      <td>4</td>\n",
       "      <td>0</td>\n",
       "    </tr>\n",
       "    <tr>\n",
       "      <th>4</th>\n",
       "      <td>F</td>\n",
       "      <td>56</td>\n",
       "      <td>JARDIM DA PENHA</td>\n",
       "      <td>0</td>\n",
       "      <td>1</td>\n",
       "      <td>1</td>\n",
       "      <td>0</td>\n",
       "      <td>0</td>\n",
       "      <td>0</td>\n",
       "      <td>No</td>\n",
       "      <td>4</td>\n",
       "      <td>4</td>\n",
       "      <td>0</td>\n",
       "    </tr>\n",
       "  </tbody>\n",
       "</table>\n",
       "</div>"
      ],
      "text/plain": [
       "  gender  age      neighbourhood  scholarship  hypertension  diabetes  \\\n",
       "0      F   62    JARDIM DA PENHA            0             1         0   \n",
       "1      M   56    JARDIM DA PENHA            0             0         0   \n",
       "2      F   62      MATA DA PRAIA            0             0         0   \n",
       "3      F    8  PONTAL DE CAMBURI            0             0         0   \n",
       "4      F   56    JARDIM DA PENHA            0             1         1   \n",
       "\n",
       "   alcoholism  disability_count  sms_received no_show  appointment_weekday  \\\n",
       "0           0                 0             0      No                    4   \n",
       "1           0                 0             0      No                    4   \n",
       "2           0                 0             0      No                    4   \n",
       "3           0                 0             0      No                    4   \n",
       "4           0                 0             0      No                    4   \n",
       "\n",
       "   scheduled_weekday  days_between  \n",
       "0                  4             0  \n",
       "1                  4             0  \n",
       "2                  4             0  \n",
       "3                  4             0  \n",
       "4                  4             0  "
      ]
     },
     "execution_count": 37,
     "metadata": {},
     "output_type": "execute_result"
    }
   ],
   "source": [
    "df_engineer.head()"
   ]
  },
  {
   "cell_type": "markdown",
   "metadata": {},
   "source": [
    "**Map `no_show` to binary values**"
   ]
  },
  {
   "cell_type": "code",
   "execution_count": 38,
   "metadata": {},
   "outputs": [
    {
     "data": {
      "text/plain": [
       "array(['No', 'Yes'], dtype=object)"
      ]
     },
     "execution_count": 38,
     "metadata": {},
     "output_type": "execute_result"
    }
   ],
   "source": [
    "df_engineer['no_show'].unique()"
   ]
  },
  {
   "cell_type": "code",
   "execution_count": 39,
   "metadata": {},
   "outputs": [],
   "source": [
    "# map no_show to binary values\n",
    "df_engineer['no_show'] = df_engineer['no_show'].replace({'No': 0, 'Yes': 1})"
   ]
  },
  {
   "cell_type": "code",
   "execution_count": 40,
   "metadata": {},
   "outputs": [
    {
     "data": {
      "text/html": [
       "<div>\n",
       "<style scoped>\n",
       "    .dataframe tbody tr th:only-of-type {\n",
       "        vertical-align: middle;\n",
       "    }\n",
       "\n",
       "    .dataframe tbody tr th {\n",
       "        vertical-align: top;\n",
       "    }\n",
       "\n",
       "    .dataframe thead th {\n",
       "        text-align: right;\n",
       "    }\n",
       "</style>\n",
       "<table border=\"1\" class=\"dataframe\">\n",
       "  <thead>\n",
       "    <tr style=\"text-align: right;\">\n",
       "      <th></th>\n",
       "      <th>no_show</th>\n",
       "    </tr>\n",
       "  </thead>\n",
       "  <tbody>\n",
       "    <tr>\n",
       "      <th>no_show</th>\n",
       "      <td>1.000000</td>\n",
       "    </tr>\n",
       "    <tr>\n",
       "      <th>days_between</th>\n",
       "      <td>0.180144</td>\n",
       "    </tr>\n",
       "    <tr>\n",
       "      <th>sms_received</th>\n",
       "      <td>0.126552</td>\n",
       "    </tr>\n",
       "    <tr>\n",
       "      <th>scholarship</th>\n",
       "      <td>0.029182</td>\n",
       "    </tr>\n",
       "    <tr>\n",
       "      <th>scheduled_weekday</th>\n",
       "      <td>0.006024</td>\n",
       "    </tr>\n",
       "    <tr>\n",
       "      <th>appointment_weekday</th>\n",
       "      <td>0.001184</td>\n",
       "    </tr>\n",
       "    <tr>\n",
       "      <th>alcoholism</th>\n",
       "      <td>-0.000173</td>\n",
       "    </tr>\n",
       "    <tr>\n",
       "      <th>disability_count</th>\n",
       "      <td>-0.006594</td>\n",
       "    </tr>\n",
       "    <tr>\n",
       "      <th>diabetes</th>\n",
       "      <td>-0.015146</td>\n",
       "    </tr>\n",
       "    <tr>\n",
       "      <th>hypertension</th>\n",
       "      <td>-0.035631</td>\n",
       "    </tr>\n",
       "    <tr>\n",
       "      <th>age</th>\n",
       "      <td>-0.060490</td>\n",
       "    </tr>\n",
       "  </tbody>\n",
       "</table>\n",
       "</div>"
      ],
      "text/plain": [
       "                      no_show\n",
       "no_show              1.000000\n",
       "days_between         0.180144\n",
       "sms_received         0.126552\n",
       "scholarship          0.029182\n",
       "scheduled_weekday    0.006024\n",
       "appointment_weekday  0.001184\n",
       "alcoholism          -0.000173\n",
       "disability_count    -0.006594\n",
       "diabetes            -0.015146\n",
       "hypertension        -0.035631\n",
       "age                 -0.060490"
      ]
     },
     "execution_count": 40,
     "metadata": {},
     "output_type": "execute_result"
    }
   ],
   "source": [
    "df_engineer.corr()[['no_show']].sort_values(by='no_show', ascending=False)"
   ]
  },
  {
   "cell_type": "code",
   "execution_count": 41,
   "metadata": {},
   "outputs": [
    {
     "data": {
      "text/plain": [
       "<Axes: >"
      ]
     },
     "execution_count": 41,
     "metadata": {},
     "output_type": "execute_result"
    },
    {
     "data": {
      "image/png": "[encoded data removed]",
      "text/plain": [
       "<Figure size 432x288 with 2 Axes>"
      ]
     },
     "metadata": {
      "needs_background": "light"
     },
     "output_type": "display_data"
    }
   ],
   "source": [
    "sns.heatmap(df_engineer.corr())"
   ]
  },
  {
   "cell_type": "code",
   "execution_count": 42,
   "metadata": {},
   "outputs": [
    {
     "data": {
      "image/png": "[encoded data removed]",
      "text/plain": [
       "<Figure size 432x288 with 2 Axes>"
      ]
     },
     "metadata": {
      "needs_background": "light"
     },
     "output_type": "display_data"
    }
   ],
   "source": [
    "sns.heatmap(df_engineer.corr()[['no_show']].sort_values(by='no_show', ascending=False));"
   ]
  },
  {
   "cell_type": "code",
   "execution_count": 43,
   "metadata": {
    "tags": []
   },
   "outputs": [
    {
     "data": {
      "text/plain": [
       "array([0, 1], dtype=int64)"
      ]
     },
     "execution_count": 43,
     "metadata": {},
     "output_type": "execute_result"
    }
   ],
   "source": [
    "df_engineer['no_show'].unique()"
   ]
  },
  {
   "cell_type": "code",
   "execution_count": 44,
   "metadata": {},
   "outputs": [],
   "source": [
    "df_engineer = pd.get_dummies(df_engineer, ['gender', 'neighbourhood'])"
   ]
  },
  {
   "cell_type": "code",
   "execution_count": 45,
   "metadata": {},
   "outputs": [
    {
     "name": "stdout",
     "output_type": "stream",
     "text": [
      "<class 'pandas.core.frame.DataFrame'>\n",
      "Int64Index: 110516 entries, 0 to 110526\n",
      "Data columns (total 94 columns):\n",
      " #   Column                                     Non-Null Count   Dtype\n",
      "---  ------                                     --------------   -----\n",
      " 0   age                                        110516 non-null  int64\n",
      " 1   scholarship                                110516 non-null  int64\n",
      " 2   hypertension                               110516 non-null  int64\n",
      " 3   diabetes                                   110516 non-null  int64\n",
      " 4   alcoholism                                 110516 non-null  int64\n",
      " 5   disability_count                           110516 non-null  int64\n",
      " 6   sms_received                               110516 non-null  int64\n",
      " 7   no_show                                    110516 non-null  int64\n",
      " 8   appointment_weekday                        110516 non-null  int64\n",
      " 9   scheduled_weekday                          110516 non-null  int64\n",
      " 10  days_between                               110516 non-null  int32\n",
      " 11  gender_F                                   110516 non-null  uint8\n",
      " 12  gender_M                                   110516 non-null  uint8\n",
      " 13  neighbourhood_AEROPORTO                    110516 non-null  uint8\n",
      " 14  neighbourhood_ANDORINHAS                   110516 non-null  uint8\n",
      " 15  neighbourhood_ANTÔNIO HONÓRIO              110516 non-null  uint8\n",
      " 16  neighbourhood_ARIOVALDO FAVALESSA          110516 non-null  uint8\n",
      " 17  neighbourhood_BARRO VERMELHO               110516 non-null  uint8\n",
      " 18  neighbourhood_BELA VISTA                   110516 non-null  uint8\n",
      " 19  neighbourhood_BENTO FERREIRA               110516 non-null  uint8\n",
      " 20  neighbourhood_BOA VISTA                    110516 non-null  uint8\n",
      " 21  neighbourhood_BONFIM                       110516 non-null  uint8\n",
      " 22  neighbourhood_CARATOÍRA                    110516 non-null  uint8\n",
      " 23  neighbourhood_CENTRO                       110516 non-null  uint8\n",
      " 24  neighbourhood_COMDUSA                      110516 non-null  uint8\n",
      " 25  neighbourhood_CONQUISTA                    110516 non-null  uint8\n",
      " 26  neighbourhood_CONSOLAÇÃO                   110516 non-null  uint8\n",
      " 27  neighbourhood_CRUZAMENTO                   110516 non-null  uint8\n",
      " 28  neighbourhood_DA PENHA                     110516 non-null  uint8\n",
      " 29  neighbourhood_DE LOURDES                   110516 non-null  uint8\n",
      " 30  neighbourhood_DO CABRAL                    110516 non-null  uint8\n",
      " 31  neighbourhood_DO MOSCOSO                   110516 non-null  uint8\n",
      " 32  neighbourhood_DO QUADRO                    110516 non-null  uint8\n",
      " 33  neighbourhood_ENSEADA DO SUÁ               110516 non-null  uint8\n",
      " 34  neighbourhood_ESTRELINHA                   110516 non-null  uint8\n",
      " 35  neighbourhood_FONTE GRANDE                 110516 non-null  uint8\n",
      " 36  neighbourhood_FORTE SÃO JOÃO               110516 non-null  uint8\n",
      " 37  neighbourhood_FRADINHOS                    110516 non-null  uint8\n",
      " 38  neighbourhood_GOIABEIRAS                   110516 non-null  uint8\n",
      " 39  neighbourhood_GRANDE VITÓRIA               110516 non-null  uint8\n",
      " 40  neighbourhood_GURIGICA                     110516 non-null  uint8\n",
      " 41  neighbourhood_HORTO                        110516 non-null  uint8\n",
      " 42  neighbourhood_ILHA DAS CAIEIRAS            110516 non-null  uint8\n",
      " 43  neighbourhood_ILHA DE SANTA MARIA          110516 non-null  uint8\n",
      " 44  neighbourhood_ILHA DO BOI                  110516 non-null  uint8\n",
      " 45  neighbourhood_ILHA DO FRADE                110516 non-null  uint8\n",
      " 46  neighbourhood_ILHA DO PRÍNCIPE             110516 non-null  uint8\n",
      " 47  neighbourhood_ILHAS OCEÂNICAS DE TRINDADE  110516 non-null  uint8\n",
      " 48  neighbourhood_INHANGUETÁ                   110516 non-null  uint8\n",
      " 49  neighbourhood_ITARARÉ                      110516 non-null  uint8\n",
      " 50  neighbourhood_JABOUR                       110516 non-null  uint8\n",
      " 51  neighbourhood_JARDIM CAMBURI               110516 non-null  uint8\n",
      " 52  neighbourhood_JARDIM DA PENHA              110516 non-null  uint8\n",
      " 53  neighbourhood_JESUS DE NAZARETH            110516 non-null  uint8\n",
      " 54  neighbourhood_JOANA D´ARC                  110516 non-null  uint8\n",
      " 55  neighbourhood_JUCUTUQUARA                  110516 non-null  uint8\n",
      " 56  neighbourhood_MARIA ORTIZ                  110516 non-null  uint8\n",
      " 57  neighbourhood_MARUÍPE                      110516 non-null  uint8\n",
      " 58  neighbourhood_MATA DA PRAIA                110516 non-null  uint8\n",
      " 59  neighbourhood_MONTE BELO                   110516 non-null  uint8\n",
      " 60  neighbourhood_MORADA DE CAMBURI            110516 non-null  uint8\n",
      " 61  neighbourhood_MÁRIO CYPRESTE               110516 non-null  uint8\n",
      " 62  neighbourhood_NAZARETH                     110516 non-null  uint8\n",
      " 63  neighbourhood_NOVA PALESTINA               110516 non-null  uint8\n",
      " 64  neighbourhood_PARQUE INDUSTRIAL            110516 non-null  uint8\n",
      " 65  neighbourhood_PARQUE MOSCOSO               110516 non-null  uint8\n",
      " 66  neighbourhood_PIEDADE                      110516 non-null  uint8\n",
      " 67  neighbourhood_PONTAL DE CAMBURI            110516 non-null  uint8\n",
      " 68  neighbourhood_PRAIA DO CANTO               110516 non-null  uint8\n",
      " 69  neighbourhood_PRAIA DO SUÁ                 110516 non-null  uint8\n",
      " 70  neighbourhood_REDENÇÃO                     110516 non-null  uint8\n",
      " 71  neighbourhood_REPÚBLICA                    110516 non-null  uint8\n",
      " 72  neighbourhood_RESISTÊNCIA                  110516 non-null  uint8\n",
      " 73  neighbourhood_ROMÃO                        110516 non-null  uint8\n",
      " 74  neighbourhood_SANTA CECÍLIA                110516 non-null  uint8\n",
      " 75  neighbourhood_SANTA CLARA                  110516 non-null  uint8\n",
      " 76  neighbourhood_SANTA HELENA                 110516 non-null  uint8\n",
      " 77  neighbourhood_SANTA LUÍZA                  110516 non-null  uint8\n",
      " 78  neighbourhood_SANTA LÚCIA                  110516 non-null  uint8\n",
      " 79  neighbourhood_SANTA MARTHA                 110516 non-null  uint8\n",
      " 80  neighbourhood_SANTA TEREZA                 110516 non-null  uint8\n",
      " 81  neighbourhood_SANTO ANDRÉ                  110516 non-null  uint8\n",
      " 82  neighbourhood_SANTO ANTÔNIO                110516 non-null  uint8\n",
      " 83  neighbourhood_SANTOS DUMONT                110516 non-null  uint8\n",
      " 84  neighbourhood_SANTOS REIS                  110516 non-null  uint8\n",
      " 85  neighbourhood_SEGURANÇA DO LAR             110516 non-null  uint8\n",
      " 86  neighbourhood_SOLON BORGES                 110516 non-null  uint8\n",
      " 87  neighbourhood_SÃO BENEDITO                 110516 non-null  uint8\n",
      " 88  neighbourhood_SÃO CRISTÓVÃO                110516 non-null  uint8\n",
      " 89  neighbourhood_SÃO JOSÉ                     110516 non-null  uint8\n",
      " 90  neighbourhood_SÃO PEDRO                    110516 non-null  uint8\n",
      " 91  neighbourhood_TABUAZEIRO                   110516 non-null  uint8\n",
      " 92  neighbourhood_UNIVERSITÁRIO                110516 non-null  uint8\n",
      " 93  neighbourhood_VILA RUBIM                   110516 non-null  uint8\n",
      "dtypes: int32(1), int64(10), uint8(83)\n",
      "memory usage: 22.5 MB\n"
     ]
    }
   ],
   "source": [
    "df_engineer.info()"
   ]
  },
  {
   "cell_type": "code",
   "execution_count": 46,
   "metadata": {},
   "outputs": [
    {
     "data": {
      "text/html": [
       "<div>\n",
       "<style scoped>\n",
       "    .dataframe tbody tr th:only-of-type {\n",
       "        vertical-align: middle;\n",
       "    }\n",
       "\n",
       "    .dataframe tbody tr th {\n",
       "        vertical-align: top;\n",
       "    }\n",
       "\n",
       "    .dataframe thead th {\n",
       "        text-align: right;\n",
       "    }\n",
       "</style>\n",
       "<table border=\"1\" class=\"dataframe\">\n",
       "  <thead>\n",
       "    <tr style=\"text-align: right;\">\n",
       "      <th></th>\n",
       "      <th>age</th>\n",
       "      <th>scholarship</th>\n",
       "      <th>hypertension</th>\n",
       "      <th>diabetes</th>\n",
       "      <th>alcoholism</th>\n",
       "      <th>disability_count</th>\n",
       "      <th>sms_received</th>\n",
       "      <th>no_show</th>\n",
       "      <th>appointment_weekday</th>\n",
       "      <th>scheduled_weekday</th>\n",
       "      <th>...</th>\n",
       "      <th>neighbourhood_SANTOS REIS</th>\n",
       "      <th>neighbourhood_SEGURANÇA DO LAR</th>\n",
       "      <th>neighbourhood_SOLON BORGES</th>\n",
       "      <th>neighbourhood_SÃO BENEDITO</th>\n",
       "      <th>neighbourhood_SÃO CRISTÓVÃO</th>\n",
       "      <th>neighbourhood_SÃO JOSÉ</th>\n",
       "      <th>neighbourhood_SÃO PEDRO</th>\n",
       "      <th>neighbourhood_TABUAZEIRO</th>\n",
       "      <th>neighbourhood_UNIVERSITÁRIO</th>\n",
       "      <th>neighbourhood_VILA RUBIM</th>\n",
       "    </tr>\n",
       "  </thead>\n",
       "  <tbody>\n",
       "    <tr>\n",
       "      <th>0</th>\n",
       "      <td>62</td>\n",
       "      <td>0</td>\n",
       "      <td>1</td>\n",
       "      <td>0</td>\n",
       "      <td>0</td>\n",
       "      <td>0</td>\n",
       "      <td>0</td>\n",
       "      <td>0</td>\n",
       "      <td>4</td>\n",
       "      <td>4</td>\n",
       "      <td>...</td>\n",
       "      <td>0</td>\n",
       "      <td>0</td>\n",
       "      <td>0</td>\n",
       "      <td>0</td>\n",
       "      <td>0</td>\n",
       "      <td>0</td>\n",
       "      <td>0</td>\n",
       "      <td>0</td>\n",
       "      <td>0</td>\n",
       "      <td>0</td>\n",
       "    </tr>\n",
       "    <tr>\n",
       "      <th>1</th>\n",
       "      <td>56</td>\n",
       "      <td>0</td>\n",
       "      <td>0</td>\n",
       "      <td>0</td>\n",
       "      <td>0</td>\n",
       "      <td>0</td>\n",
       "      <td>0</td>\n",
       "      <td>0</td>\n",
       "      <td>4</td>\n",
       "      <td>4</td>\n",
       "      <td>...</td>\n",
       "      <td>0</td>\n",
       "      <td>0</td>\n",
       "      <td>0</td>\n",
       "      <td>0</td>\n",
       "      <td>0</td>\n",
       "      <td>0</td>\n",
       "      <td>0</td>\n",
       "      <td>0</td>\n",
       "      <td>0</td>\n",
       "      <td>0</td>\n",
       "    </tr>\n",
       "    <tr>\n",
       "      <th>2</th>\n",
       "      <td>62</td>\n",
       "      <td>0</td>\n",
       "      <td>0</td>\n",
       "      <td>0</td>\n",
       "      <td>0</td>\n",
       "      <td>0</td>\n",
       "      <td>0</td>\n",
       "      <td>0</td>\n",
       "      <td>4</td>\n",
       "      <td>4</td>\n",
       "      <td>...</td>\n",
       "      <td>0</td>\n",
       "      <td>0</td>\n",
       "      <td>0</td>\n",
       "      <td>0</td>\n",
       "      <td>0</td>\n",
       "      <td>0</td>\n",
       "      <td>0</td>\n",
       "      <td>0</td>\n",
       "      <td>0</td>\n",
       "      <td>0</td>\n",
       "    </tr>\n",
       "    <tr>\n",
       "      <th>3</th>\n",
       "      <td>8</td>\n",
       "      <td>0</td>\n",
       "      <td>0</td>\n",
       "      <td>0</td>\n",
       "      <td>0</td>\n",
       "      <td>0</td>\n",
       "      <td>0</td>\n",
       "      <td>0</td>\n",
       "      <td>4</td>\n",
       "      <td>4</td>\n",
       "      <td>...</td>\n",
       "      <td>0</td>\n",
       "      <td>0</td>\n",
       "      <td>0</td>\n",
       "      <td>0</td>\n",
       "      <td>0</td>\n",
       "      <td>0</td>\n",
       "      <td>0</td>\n",
       "      <td>0</td>\n",
       "      <td>0</td>\n",
       "      <td>0</td>\n",
       "    </tr>\n",
       "    <tr>\n",
       "      <th>4</th>\n",
       "      <td>56</td>\n",
       "      <td>0</td>\n",
       "      <td>1</td>\n",
       "      <td>1</td>\n",
       "      <td>0</td>\n",
       "      <td>0</td>\n",
       "      <td>0</td>\n",
       "      <td>0</td>\n",
       "      <td>4</td>\n",
       "      <td>4</td>\n",
       "      <td>...</td>\n",
       "      <td>0</td>\n",
       "      <td>0</td>\n",
       "      <td>0</td>\n",
       "      <td>0</td>\n",
       "      <td>0</td>\n",
       "      <td>0</td>\n",
       "      <td>0</td>\n",
       "      <td>0</td>\n",
       "      <td>0</td>\n",
       "      <td>0</td>\n",
       "    </tr>\n",
       "  </tbody>\n",
       "</table>\n",
       "<p>5 rows × 94 columns</p>\n",
       "</div>"
      ],
      "text/plain": [
       "   age  scholarship  hypertension  diabetes  alcoholism  disability_count  \\\n",
       "0   62            0             1         0           0                 0   \n",
       "1   56            0             0         0           0                 0   \n",
       "2   62            0             0         0           0                 0   \n",
       "3    8            0             0         0           0                 0   \n",
       "4   56            0             1         1           0                 0   \n",
       "\n",
       "   sms_received  no_show  appointment_weekday  scheduled_weekday  ...  \\\n",
       "0             0        0                    4                  4  ...   \n",
       "1             0        0                    4                  4  ...   \n",
       "2             0        0                    4                  4  ...   \n",
       "3             0        0                    4                  4  ...   \n",
       "4             0        0                    4                  4  ...   \n",
       "\n",
       "   neighbourhood_SANTOS REIS  neighbourhood_SEGURANÇA DO LAR  \\\n",
       "0                          0                               0   \n",
       "1                          0                               0   \n",
       "2                          0                               0   \n",
       "3                          0                               0   \n",
       "4                          0                               0   \n",
       "\n",
       "   neighbourhood_SOLON BORGES  neighbourhood_SÃO BENEDITO  \\\n",
       "0                           0                           0   \n",
       "1                           0                           0   \n",
       "2                           0                           0   \n",
       "3                           0                           0   \n",
       "4                           0                           0   \n",
       "\n",
       "   neighbourhood_SÃO CRISTÓVÃO  neighbourhood_SÃO JOSÉ  \\\n",
       "0                            0                       0   \n",
       "1                            0                       0   \n",
       "2                            0                       0   \n",
       "3                            0                       0   \n",
       "4                            0                       0   \n",
       "\n",
       "   neighbourhood_SÃO PEDRO  neighbourhood_TABUAZEIRO  \\\n",
       "0                        0                         0   \n",
       "1                        0                         0   \n",
       "2                        0                         0   \n",
       "3                        0                         0   \n",
       "4                        0                         0   \n",
       "\n",
       "   neighbourhood_UNIVERSITÁRIO  neighbourhood_VILA RUBIM  \n",
       "0                            0                         0  \n",
       "1                            0                         0  \n",
       "2                            0                         0  \n",
       "3                            0                         0  \n",
       "4                            0                         0  \n",
       "\n",
       "[5 rows x 94 columns]"
      ]
     },
     "execution_count": 46,
     "metadata": {},
     "output_type": "execute_result"
    }
   ],
   "source": [
    "df_engineer.head()"
   ]
  },
  {
   "cell_type": "code",
   "execution_count": 47,
   "metadata": {},
   "outputs": [
    {
     "data": {
      "text/html": [
       "<div>\n",
       "<style scoped>\n",
       "    .dataframe tbody tr th:only-of-type {\n",
       "        vertical-align: middle;\n",
       "    }\n",
       "\n",
       "    .dataframe tbody tr th {\n",
       "        vertical-align: top;\n",
       "    }\n",
       "\n",
       "    .dataframe thead th {\n",
       "        text-align: right;\n",
       "    }\n",
       "</style>\n",
       "<table border=\"1\" class=\"dataframe\">\n",
       "  <thead>\n",
       "    <tr style=\"text-align: right;\">\n",
       "      <th></th>\n",
       "      <th>age</th>\n",
       "      <th>scholarship</th>\n",
       "      <th>hypertension</th>\n",
       "      <th>diabetes</th>\n",
       "      <th>alcoholism</th>\n",
       "      <th>disability_count</th>\n",
       "      <th>sms_received</th>\n",
       "      <th>no_show</th>\n",
       "      <th>appointment_weekday</th>\n",
       "      <th>scheduled_weekday</th>\n",
       "      <th>...</th>\n",
       "      <th>neighbourhood_SANTOS REIS</th>\n",
       "      <th>neighbourhood_SEGURANÇA DO LAR</th>\n",
       "      <th>neighbourhood_SOLON BORGES</th>\n",
       "      <th>neighbourhood_SÃO BENEDITO</th>\n",
       "      <th>neighbourhood_SÃO CRISTÓVÃO</th>\n",
       "      <th>neighbourhood_SÃO JOSÉ</th>\n",
       "      <th>neighbourhood_SÃO PEDRO</th>\n",
       "      <th>neighbourhood_TABUAZEIRO</th>\n",
       "      <th>neighbourhood_UNIVERSITÁRIO</th>\n",
       "      <th>neighbourhood_VILA RUBIM</th>\n",
       "    </tr>\n",
       "  </thead>\n",
       "  <tbody>\n",
       "    <tr>\n",
       "      <th>count</th>\n",
       "      <td>110516.000000</td>\n",
       "      <td>110516.000000</td>\n",
       "      <td>110516.000000</td>\n",
       "      <td>110516.000000</td>\n",
       "      <td>110516.000000</td>\n",
       "      <td>110516.000000</td>\n",
       "      <td>110516.000000</td>\n",
       "      <td>110516.000000</td>\n",
       "      <td>110516.000000</td>\n",
       "      <td>110516.000000</td>\n",
       "      <td>...</td>\n",
       "      <td>110516.000000</td>\n",
       "      <td>110516.000000</td>\n",
       "      <td>110516.000000</td>\n",
       "      <td>110516.000000</td>\n",
       "      <td>110516.000000</td>\n",
       "      <td>110516.000000</td>\n",
       "      <td>110516.000000</td>\n",
       "      <td>110516.000000</td>\n",
       "      <td>110516.000000</td>\n",
       "      <td>110516.000000</td>\n",
       "    </tr>\n",
       "    <tr>\n",
       "      <th>mean</th>\n",
       "      <td>37.085861</td>\n",
       "      <td>0.098275</td>\n",
       "      <td>0.197257</td>\n",
       "      <td>0.071872</td>\n",
       "      <td>0.030403</td>\n",
       "      <td>0.022196</td>\n",
       "      <td>0.321049</td>\n",
       "      <td>0.201880</td>\n",
       "      <td>1.858274</td>\n",
       "      <td>1.851985</td>\n",
       "      <td>...</td>\n",
       "      <td>0.004950</td>\n",
       "      <td>0.001312</td>\n",
       "      <td>0.004244</td>\n",
       "      <td>0.013021</td>\n",
       "      <td>0.016613</td>\n",
       "      <td>0.017880</td>\n",
       "      <td>0.022151</td>\n",
       "      <td>0.028331</td>\n",
       "      <td>0.001375</td>\n",
       "      <td>0.007700</td>\n",
       "    </tr>\n",
       "    <tr>\n",
       "      <th>std</th>\n",
       "      <td>23.104465</td>\n",
       "      <td>0.297688</td>\n",
       "      <td>0.397929</td>\n",
       "      <td>0.258277</td>\n",
       "      <td>0.171694</td>\n",
       "      <td>0.161390</td>\n",
       "      <td>0.466882</td>\n",
       "      <td>0.401405</td>\n",
       "      <td>1.371662</td>\n",
       "      <td>1.378517</td>\n",
       "      <td>...</td>\n",
       "      <td>0.070179</td>\n",
       "      <td>0.036198</td>\n",
       "      <td>0.065006</td>\n",
       "      <td>0.113364</td>\n",
       "      <td>0.127817</td>\n",
       "      <td>0.132515</td>\n",
       "      <td>0.147174</td>\n",
       "      <td>0.165917</td>\n",
       "      <td>0.037061</td>\n",
       "      <td>0.087413</td>\n",
       "    </tr>\n",
       "    <tr>\n",
       "      <th>min</th>\n",
       "      <td>0.000000</td>\n",
       "      <td>0.000000</td>\n",
       "      <td>0.000000</td>\n",
       "      <td>0.000000</td>\n",
       "      <td>0.000000</td>\n",
       "      <td>0.000000</td>\n",
       "      <td>0.000000</td>\n",
       "      <td>0.000000</td>\n",
       "      <td>0.000000</td>\n",
       "      <td>0.000000</td>\n",
       "      <td>...</td>\n",
       "      <td>0.000000</td>\n",
       "      <td>0.000000</td>\n",
       "      <td>0.000000</td>\n",
       "      <td>0.000000</td>\n",
       "      <td>0.000000</td>\n",
       "      <td>0.000000</td>\n",
       "      <td>0.000000</td>\n",
       "      <td>0.000000</td>\n",
       "      <td>0.000000</td>\n",
       "      <td>0.000000</td>\n",
       "    </tr>\n",
       "    <tr>\n",
       "      <th>25%</th>\n",
       "      <td>18.000000</td>\n",
       "      <td>0.000000</td>\n",
       "      <td>0.000000</td>\n",
       "      <td>0.000000</td>\n",
       "      <td>0.000000</td>\n",
       "      <td>0.000000</td>\n",
       "      <td>0.000000</td>\n",
       "      <td>0.000000</td>\n",
       "      <td>1.000000</td>\n",
       "      <td>1.000000</td>\n",
       "      <td>...</td>\n",
       "      <td>0.000000</td>\n",
       "      <td>0.000000</td>\n",
       "      <td>0.000000</td>\n",
       "      <td>0.000000</td>\n",
       "      <td>0.000000</td>\n",
       "      <td>0.000000</td>\n",
       "      <td>0.000000</td>\n",
       "      <td>0.000000</td>\n",
       "      <td>0.000000</td>\n",
       "      <td>0.000000</td>\n",
       "    </tr>\n",
       "    <tr>\n",
       "      <th>50%</th>\n",
       "      <td>37.000000</td>\n",
       "      <td>0.000000</td>\n",
       "      <td>0.000000</td>\n",
       "      <td>0.000000</td>\n",
       "      <td>0.000000</td>\n",
       "      <td>0.000000</td>\n",
       "      <td>0.000000</td>\n",
       "      <td>0.000000</td>\n",
       "      <td>2.000000</td>\n",
       "      <td>2.000000</td>\n",
       "      <td>...</td>\n",
       "      <td>0.000000</td>\n",
       "      <td>0.000000</td>\n",
       "      <td>0.000000</td>\n",
       "      <td>0.000000</td>\n",
       "      <td>0.000000</td>\n",
       "      <td>0.000000</td>\n",
       "      <td>0.000000</td>\n",
       "      <td>0.000000</td>\n",
       "      <td>0.000000</td>\n",
       "      <td>0.000000</td>\n",
       "    </tr>\n",
       "    <tr>\n",
       "      <th>75%</th>\n",
       "      <td>55.000000</td>\n",
       "      <td>0.000000</td>\n",
       "      <td>0.000000</td>\n",
       "      <td>0.000000</td>\n",
       "      <td>0.000000</td>\n",
       "      <td>0.000000</td>\n",
       "      <td>1.000000</td>\n",
       "      <td>0.000000</td>\n",
       "      <td>3.000000</td>\n",
       "      <td>3.000000</td>\n",
       "      <td>...</td>\n",
       "      <td>0.000000</td>\n",
       "      <td>0.000000</td>\n",
       "      <td>0.000000</td>\n",
       "      <td>0.000000</td>\n",
       "      <td>0.000000</td>\n",
       "      <td>0.000000</td>\n",
       "      <td>0.000000</td>\n",
       "      <td>0.000000</td>\n",
       "      <td>0.000000</td>\n",
       "      <td>0.000000</td>\n",
       "    </tr>\n",
       "    <tr>\n",
       "      <th>max</th>\n",
       "      <td>102.000000</td>\n",
       "      <td>1.000000</td>\n",
       "      <td>1.000000</td>\n",
       "      <td>1.000000</td>\n",
       "      <td>1.000000</td>\n",
       "      <td>4.000000</td>\n",
       "      <td>1.000000</td>\n",
       "      <td>1.000000</td>\n",
       "      <td>5.000000</td>\n",
       "      <td>5.000000</td>\n",
       "      <td>...</td>\n",
       "      <td>1.000000</td>\n",
       "      <td>1.000000</td>\n",
       "      <td>1.000000</td>\n",
       "      <td>1.000000</td>\n",
       "      <td>1.000000</td>\n",
       "      <td>1.000000</td>\n",
       "      <td>1.000000</td>\n",
       "      <td>1.000000</td>\n",
       "      <td>1.000000</td>\n",
       "      <td>1.000000</td>\n",
       "    </tr>\n",
       "  </tbody>\n",
       "</table>\n",
       "<p>8 rows × 94 columns</p>\n",
       "</div>"
      ],
      "text/plain": [
       "                 age    scholarship   hypertension       diabetes  \\\n",
       "count  110516.000000  110516.000000  110516.000000  110516.000000   \n",
       "mean       37.085861       0.098275       0.197257       0.071872   \n",
       "std        23.104465       0.297688       0.397929       0.258277   \n",
       "min         0.000000       0.000000       0.000000       0.000000   \n",
       "25%        18.000000       0.000000       0.000000       0.000000   \n",
       "50%        37.000000       0.000000       0.000000       0.000000   \n",
       "75%        55.000000       0.000000       0.000000       0.000000   \n",
       "max       102.000000       1.000000       1.000000       1.000000   \n",
       "\n",
       "          alcoholism  disability_count   sms_received        no_show  \\\n",
       "count  110516.000000     110516.000000  110516.000000  110516.000000   \n",
       "mean        0.030403          0.022196       0.321049       0.201880   \n",
       "std         0.171694          0.161390       0.466882       0.401405   \n",
       "min         0.000000          0.000000       0.000000       0.000000   \n",
       "25%         0.000000          0.000000       0.000000       0.000000   \n",
       "50%         0.000000          0.000000       0.000000       0.000000   \n",
       "75%         0.000000          0.000000       1.000000       0.000000   \n",
       "max         1.000000          4.000000       1.000000       1.000000   \n",
       "\n",
       "       appointment_weekday  scheduled_weekday  ...  neighbourhood_SANTOS REIS  \\\n",
       "count        110516.000000      110516.000000  ...              110516.000000   \n",
       "mean              1.858274           1.851985  ...                   0.004950   \n",
       "std               1.371662           1.378517  ...                   0.070179   \n",
       "min               0.000000           0.000000  ...                   0.000000   \n",
       "25%               1.000000           1.000000  ...                   0.000000   \n",
       "50%               2.000000           2.000000  ...                   0.000000   \n",
       "75%               3.000000           3.000000  ...                   0.000000   \n",
       "max               5.000000           5.000000  ...                   1.000000   \n",
       "\n",
       "       neighbourhood_SEGURANÇA DO LAR  neighbourhood_SOLON BORGES  \\\n",
       "count                   110516.000000               110516.000000   \n",
       "mean                         0.001312                    0.004244   \n",
       "std                          0.036198                    0.065006   \n",
       "min                          0.000000                    0.000000   \n",
       "25%                          0.000000                    0.000000   \n",
       "50%                          0.000000                    0.000000   \n",
       "75%                          0.000000                    0.000000   \n",
       "max                          1.000000                    1.000000   \n",
       "\n",
       "       neighbourhood_SÃO BENEDITO  neighbourhood_SÃO CRISTÓVÃO  \\\n",
       "count               110516.000000                110516.000000   \n",
       "mean                     0.013021                     0.016613   \n",
       "std                      0.113364                     0.127817   \n",
       "min                      0.000000                     0.000000   \n",
       "25%                      0.000000                     0.000000   \n",
       "50%                      0.000000                     0.000000   \n",
       "75%                      0.000000                     0.000000   \n",
       "max                      1.000000                     1.000000   \n",
       "\n",
       "       neighbourhood_SÃO JOSÉ  neighbourhood_SÃO PEDRO  \\\n",
       "count           110516.000000            110516.000000   \n",
       "mean                 0.017880                 0.022151   \n",
       "std                  0.132515                 0.147174   \n",
       "min                  0.000000                 0.000000   \n",
       "25%                  0.000000                 0.000000   \n",
       "50%                  0.000000                 0.000000   \n",
       "75%                  0.000000                 0.000000   \n",
       "max                  1.000000                 1.000000   \n",
       "\n",
       "       neighbourhood_TABUAZEIRO  neighbourhood_UNIVERSITÁRIO  \\\n",
       "count             110516.000000                110516.000000   \n",
       "mean                   0.028331                     0.001375   \n",
       "std                    0.165917                     0.037061   \n",
       "min                    0.000000                     0.000000   \n",
       "25%                    0.000000                     0.000000   \n",
       "50%                    0.000000                     0.000000   \n",
       "75%                    0.000000                     0.000000   \n",
       "max                    1.000000                     1.000000   \n",
       "\n",
       "       neighbourhood_VILA RUBIM  \n",
       "count             110516.000000  \n",
       "mean                   0.007700  \n",
       "std                    0.087413  \n",
       "min                    0.000000  \n",
       "25%                    0.000000  \n",
       "50%                    0.000000  \n",
       "75%                    0.000000  \n",
       "max                    1.000000  \n",
       "\n",
       "[8 rows x 94 columns]"
      ]
     },
     "execution_count": 47,
     "metadata": {},
     "output_type": "execute_result"
    }
   ],
   "source": [
    "df_engineer.describe()"
   ]
  },
  {
   "cell_type": "markdown",
   "metadata": {},
   "source": [
    "## Feature Transformation\n",
    "\n",
    "In preparation for the supervised learning model, I will separate the label (the `no_show` column) from the features.\n",
    "\n",
    "I plan to test with Support Vector Machine, Logistic Regression, and Random Forest models. It is important to keep this in mind as I determine feature transformation.\n",
    "\n",
    "### Address Skewed Continuous Feature\n",
    "`days_between` has a highly skewed distribution as a large number of the appointments were made on the same day. While the skew will not be an issue for the Random Forest model, it will be for the SVM and logistic regression model. I will create two feature sets and apply a logarithmic transformation in addition to normalization on this feature in one and then just a scaler in the other to compare the impact of preprocessing on the model."
   ]
  },
  {
   "cell_type": "code",
   "execution_count": 109,
   "metadata": {},
   "outputs": [],
   "source": [
    "# create label data\n",
    "no_show_label = df_engineer['no_show']\n",
    "\n",
    "# drop label data to create feature dataframe\n",
    "features = df_engineer.drop('no_show', axis=1)"
   ]
  },
  {
   "cell_type": "code",
   "execution_count": 105,
   "metadata": {},
   "outputs": [
    {
     "data": {
      "text/html": [
       "<div>\n",
       "<style scoped>\n",
       "    .dataframe tbody tr th:only-of-type {\n",
       "        vertical-align: middle;\n",
       "    }\n",
       "\n",
       "    .dataframe tbody tr th {\n",
       "        vertical-align: top;\n",
       "    }\n",
       "\n",
       "    .dataframe thead th {\n",
       "        text-align: right;\n",
       "    }\n",
       "</style>\n",
       "<table border=\"1\" class=\"dataframe\">\n",
       "  <thead>\n",
       "    <tr style=\"text-align: right;\">\n",
       "      <th></th>\n",
       "      <th>age</th>\n",
       "      <th>scholarship</th>\n",
       "      <th>hypertension</th>\n",
       "      <th>diabetes</th>\n",
       "      <th>alcoholism</th>\n",
       "      <th>disability_count</th>\n",
       "      <th>sms_received</th>\n",
       "      <th>appointment_weekday</th>\n",
       "      <th>scheduled_weekday</th>\n",
       "      <th>days_between</th>\n",
       "      <th>...</th>\n",
       "      <th>neighbourhood_SANTOS REIS</th>\n",
       "      <th>neighbourhood_SEGURANÇA DO LAR</th>\n",
       "      <th>neighbourhood_SOLON BORGES</th>\n",
       "      <th>neighbourhood_SÃO BENEDITO</th>\n",
       "      <th>neighbourhood_SÃO CRISTÓVÃO</th>\n",
       "      <th>neighbourhood_SÃO JOSÉ</th>\n",
       "      <th>neighbourhood_SÃO PEDRO</th>\n",
       "      <th>neighbourhood_TABUAZEIRO</th>\n",
       "      <th>neighbourhood_UNIVERSITÁRIO</th>\n",
       "      <th>neighbourhood_VILA RUBIM</th>\n",
       "    </tr>\n",
       "  </thead>\n",
       "  <tbody>\n",
       "    <tr>\n",
       "      <th>0</th>\n",
       "      <td>62</td>\n",
       "      <td>0</td>\n",
       "      <td>1</td>\n",
       "      <td>0</td>\n",
       "      <td>0</td>\n",
       "      <td>0</td>\n",
       "      <td>0</td>\n",
       "      <td>4</td>\n",
       "      <td>4</td>\n",
       "      <td>0.0</td>\n",
       "      <td>...</td>\n",
       "      <td>0</td>\n",
       "      <td>0</td>\n",
       "      <td>0</td>\n",
       "      <td>0</td>\n",
       "      <td>0</td>\n",
       "      <td>0</td>\n",
       "      <td>0</td>\n",
       "      <td>0</td>\n",
       "      <td>0</td>\n",
       "      <td>0</td>\n",
       "    </tr>\n",
       "    <tr>\n",
       "      <th>1</th>\n",
       "      <td>56</td>\n",
       "      <td>0</td>\n",
       "      <td>0</td>\n",
       "      <td>0</td>\n",
       "      <td>0</td>\n",
       "      <td>0</td>\n",
       "      <td>0</td>\n",
       "      <td>4</td>\n",
       "      <td>4</td>\n",
       "      <td>0.0</td>\n",
       "      <td>...</td>\n",
       "      <td>0</td>\n",
       "      <td>0</td>\n",
       "      <td>0</td>\n",
       "      <td>0</td>\n",
       "      <td>0</td>\n",
       "      <td>0</td>\n",
       "      <td>0</td>\n",
       "      <td>0</td>\n",
       "      <td>0</td>\n",
       "      <td>0</td>\n",
       "    </tr>\n",
       "    <tr>\n",
       "      <th>2</th>\n",
       "      <td>62</td>\n",
       "      <td>0</td>\n",
       "      <td>0</td>\n",
       "      <td>0</td>\n",
       "      <td>0</td>\n",
       "      <td>0</td>\n",
       "      <td>0</td>\n",
       "      <td>4</td>\n",
       "      <td>4</td>\n",
       "      <td>0.0</td>\n",
       "      <td>...</td>\n",
       "      <td>0</td>\n",
       "      <td>0</td>\n",
       "      <td>0</td>\n",
       "      <td>0</td>\n",
       "      <td>0</td>\n",
       "      <td>0</td>\n",
       "      <td>0</td>\n",
       "      <td>0</td>\n",
       "      <td>0</td>\n",
       "      <td>0</td>\n",
       "    </tr>\n",
       "    <tr>\n",
       "      <th>3</th>\n",
       "      <td>8</td>\n",
       "      <td>0</td>\n",
       "      <td>0</td>\n",
       "      <td>0</td>\n",
       "      <td>0</td>\n",
       "      <td>0</td>\n",
       "      <td>0</td>\n",
       "      <td>4</td>\n",
       "      <td>4</td>\n",
       "      <td>0.0</td>\n",
       "      <td>...</td>\n",
       "      <td>0</td>\n",
       "      <td>0</td>\n",
       "      <td>0</td>\n",
       "      <td>0</td>\n",
       "      <td>0</td>\n",
       "      <td>0</td>\n",
       "      <td>0</td>\n",
       "      <td>0</td>\n",
       "      <td>0</td>\n",
       "      <td>0</td>\n",
       "    </tr>\n",
       "    <tr>\n",
       "      <th>4</th>\n",
       "      <td>56</td>\n",
       "      <td>0</td>\n",
       "      <td>1</td>\n",
       "      <td>1</td>\n",
       "      <td>0</td>\n",
       "      <td>0</td>\n",
       "      <td>0</td>\n",
       "      <td>4</td>\n",
       "      <td>4</td>\n",
       "      <td>0.0</td>\n",
       "      <td>...</td>\n",
       "      <td>0</td>\n",
       "      <td>0</td>\n",
       "      <td>0</td>\n",
       "      <td>0</td>\n",
       "      <td>0</td>\n",
       "      <td>0</td>\n",
       "      <td>0</td>\n",
       "      <td>0</td>\n",
       "      <td>0</td>\n",
       "      <td>0</td>\n",
       "    </tr>\n",
       "  </tbody>\n",
       "</table>\n",
       "<p>5 rows × 93 columns</p>\n",
       "</div>"
      ],
      "text/plain": [
       "   age  scholarship  hypertension  diabetes  alcoholism  disability_count  \\\n",
       "0   62            0             1         0           0                 0   \n",
       "1   56            0             0         0           0                 0   \n",
       "2   62            0             0         0           0                 0   \n",
       "3    8            0             0         0           0                 0   \n",
       "4   56            0             1         1           0                 0   \n",
       "\n",
       "   sms_received  appointment_weekday  scheduled_weekday  days_between  ...  \\\n",
       "0             0                    4                  4           0.0  ...   \n",
       "1             0                    4                  4           0.0  ...   \n",
       "2             0                    4                  4           0.0  ...   \n",
       "3             0                    4                  4           0.0  ...   \n",
       "4             0                    4                  4           0.0  ...   \n",
       "\n",
       "   neighbourhood_SANTOS REIS  neighbourhood_SEGURANÇA DO LAR  \\\n",
       "0                          0                               0   \n",
       "1                          0                               0   \n",
       "2                          0                               0   \n",
       "3                          0                               0   \n",
       "4                          0                               0   \n",
       "\n",
       "   neighbourhood_SOLON BORGES  neighbourhood_SÃO BENEDITO  \\\n",
       "0                           0                           0   \n",
       "1                           0                           0   \n",
       "2                           0                           0   \n",
       "3                           0                           0   \n",
       "4                           0                           0   \n",
       "\n",
       "   neighbourhood_SÃO CRISTÓVÃO  neighbourhood_SÃO JOSÉ  \\\n",
       "0                            0                       0   \n",
       "1                            0                       0   \n",
       "2                            0                       0   \n",
       "3                            0                       0   \n",
       "4                            0                       0   \n",
       "\n",
       "   neighbourhood_SÃO PEDRO  neighbourhood_TABUAZEIRO  \\\n",
       "0                        0                         0   \n",
       "1                        0                         0   \n",
       "2                        0                         0   \n",
       "3                        0                         0   \n",
       "4                        0                         0   \n",
       "\n",
       "   neighbourhood_UNIVERSITÁRIO  neighbourhood_VILA RUBIM  \n",
       "0                            0                         0  \n",
       "1                            0                         0  \n",
       "2                            0                         0  \n",
       "3                            0                         0  \n",
       "4                            0                         0  \n",
       "\n",
       "[5 rows x 93 columns]"
      ]
     },
     "execution_count": 105,
     "metadata": {},
     "output_type": "execute_result"
    }
   ],
   "source": [
    "features.head()"
   ]
  },
  {
   "cell_type": "markdown",
   "metadata": {},
   "source": []
  },
  {
   "cell_type": "code",
   "execution_count": 110,
   "metadata": {},
   "outputs": [],
   "source": [
    "# create a copy of the features where days_between will not be transformed\n",
    "features_skew = features.copy()"
   ]
  },
  {
   "cell_type": "code",
   "execution_count": 111,
   "metadata": {},
   "outputs": [
    {
     "data": {
      "image/png": "[encoded data removed]",
      "text/plain": [
       "<Figure size 842.4x360 with 1 Axes>"
      ]
     },
     "metadata": {
      "needs_background": "light"
     },
     "output_type": "display_data"
    }
   ],
   "source": [
    "plot_hist(features, 'days_between', 10)"
   ]
  },
  {
   "cell_type": "code",
   "execution_count": 112,
   "metadata": {},
   "outputs": [],
   "source": [
    "features['days_between'] = features['days_between'].apply(lambda x: np.log(x + 1))"
   ]
  },
  {
   "cell_type": "code",
   "execution_count": 113,
   "metadata": {},
   "outputs": [
    {
     "data": {
      "image/png": "[encoded data removed]",
      "text/plain": [
       "<Figure size 842.4x360 with 1 Axes>"
      ]
     },
     "metadata": {
      "needs_background": "light"
     },
     "output_type": "display_data"
    }
   ],
   "source": [
    " sns.displot(data=features, x='days_between', height=5, aspect=11.7/5);"
   ]
  },
  {
   "cell_type": "markdown",
   "metadata": {},
   "source": [
    "### Apply Feature Scaling\n",
    "\n",
    "I am using RobustScaler due to the outliers in the data, particular in days_between, but also in age"
   ]
  },
  {
   "cell_type": "code",
   "execution_count": 86,
   "metadata": {},
   "outputs": [],
   "source": [
    "from sklearn.preprocessing import RobustScaler"
   ]
  },
  {
   "cell_type": "code",
   "execution_count": 114,
   "metadata": {},
   "outputs": [],
   "source": [
    "robust_scaler = RobustScaler()"
   ]
  },
  {
   "cell_type": "code",
   "execution_count": 115,
   "metadata": {},
   "outputs": [
    {
     "data": {
      "text/html": [
       "<div>\n",
       "<style scoped>\n",
       "    .dataframe tbody tr th:only-of-type {\n",
       "        vertical-align: middle;\n",
       "    }\n",
       "\n",
       "    .dataframe tbody tr th {\n",
       "        vertical-align: top;\n",
       "    }\n",
       "\n",
       "    .dataframe thead th {\n",
       "        text-align: right;\n",
       "    }\n",
       "</style>\n",
       "<table border=\"1\" class=\"dataframe\">\n",
       "  <thead>\n",
       "    <tr style=\"text-align: right;\">\n",
       "      <th></th>\n",
       "      <th>age</th>\n",
       "      <th>days_between</th>\n",
       "      <th>disability_count</th>\n",
       "    </tr>\n",
       "  </thead>\n",
       "  <tbody>\n",
       "    <tr>\n",
       "      <th>0</th>\n",
       "      <td>62</td>\n",
       "      <td>0.000000</td>\n",
       "      <td>0</td>\n",
       "    </tr>\n",
       "    <tr>\n",
       "      <th>1</th>\n",
       "      <td>56</td>\n",
       "      <td>0.000000</td>\n",
       "      <td>0</td>\n",
       "    </tr>\n",
       "    <tr>\n",
       "      <th>2</th>\n",
       "      <td>62</td>\n",
       "      <td>0.000000</td>\n",
       "      <td>0</td>\n",
       "    </tr>\n",
       "    <tr>\n",
       "      <th>3</th>\n",
       "      <td>8</td>\n",
       "      <td>0.000000</td>\n",
       "      <td>0</td>\n",
       "    </tr>\n",
       "    <tr>\n",
       "      <th>4</th>\n",
       "      <td>56</td>\n",
       "      <td>0.000000</td>\n",
       "      <td>0</td>\n",
       "    </tr>\n",
       "    <tr>\n",
       "      <th>...</th>\n",
       "      <td>...</td>\n",
       "      <td>...</td>\n",
       "      <td>...</td>\n",
       "    </tr>\n",
       "    <tr>\n",
       "      <th>110522</th>\n",
       "      <td>56</td>\n",
       "      <td>3.555348</td>\n",
       "      <td>0</td>\n",
       "    </tr>\n",
       "    <tr>\n",
       "      <th>110523</th>\n",
       "      <td>51</td>\n",
       "      <td>3.555348</td>\n",
       "      <td>0</td>\n",
       "    </tr>\n",
       "    <tr>\n",
       "      <th>110524</th>\n",
       "      <td>21</td>\n",
       "      <td>3.713572</td>\n",
       "      <td>0</td>\n",
       "    </tr>\n",
       "    <tr>\n",
       "      <th>110525</th>\n",
       "      <td>38</td>\n",
       "      <td>3.713572</td>\n",
       "      <td>0</td>\n",
       "    </tr>\n",
       "    <tr>\n",
       "      <th>110526</th>\n",
       "      <td>54</td>\n",
       "      <td>3.713572</td>\n",
       "      <td>0</td>\n",
       "    </tr>\n",
       "  </tbody>\n",
       "</table>\n",
       "<p>110516 rows × 3 columns</p>\n",
       "</div>"
      ],
      "text/plain": [
       "        age  days_between  disability_count\n",
       "0        62      0.000000                 0\n",
       "1        56      0.000000                 0\n",
       "2        62      0.000000                 0\n",
       "3         8      0.000000                 0\n",
       "4        56      0.000000                 0\n",
       "...     ...           ...               ...\n",
       "110522   56      3.555348                 0\n",
       "110523   51      3.555348                 0\n",
       "110524   21      3.713572                 0\n",
       "110525   38      3.713572                 0\n",
       "110526   54      3.713572                 0\n",
       "\n",
       "[110516 rows x 3 columns]"
      ]
     },
     "execution_count": 115,
     "metadata": {},
     "output_type": "execute_result"
    }
   ],
   "source": [
    "features[continuous_features]"
   ]
  },
  {
   "cell_type": "code",
   "execution_count": 116,
   "metadata": {},
   "outputs": [],
   "source": [
    "continuous_features = ['age', 'days_between', 'disability_count']\n",
    "features[continuous_features] = robust_scaler.fit_transform(features[continuous_features])"
   ]
  },
  {
   "cell_type": "code",
   "execution_count": 117,
   "metadata": {},
   "outputs": [
    {
     "data": {
      "text/html": [
       "<div>\n",
       "<style scoped>\n",
       "    .dataframe tbody tr th:only-of-type {\n",
       "        vertical-align: middle;\n",
       "    }\n",
       "\n",
       "    .dataframe tbody tr th {\n",
       "        vertical-align: top;\n",
       "    }\n",
       "\n",
       "    .dataframe thead th {\n",
       "        text-align: right;\n",
       "    }\n",
       "</style>\n",
       "<table border=\"1\" class=\"dataframe\">\n",
       "  <thead>\n",
       "    <tr style=\"text-align: right;\">\n",
       "      <th></th>\n",
       "      <th>age</th>\n",
       "      <th>scholarship</th>\n",
       "      <th>hypertension</th>\n",
       "      <th>diabetes</th>\n",
       "      <th>alcoholism</th>\n",
       "      <th>disability_count</th>\n",
       "      <th>sms_received</th>\n",
       "      <th>appointment_weekday</th>\n",
       "      <th>scheduled_weekday</th>\n",
       "      <th>days_between</th>\n",
       "      <th>...</th>\n",
       "      <th>neighbourhood_SANTOS REIS</th>\n",
       "      <th>neighbourhood_SEGURANÇA DO LAR</th>\n",
       "      <th>neighbourhood_SOLON BORGES</th>\n",
       "      <th>neighbourhood_SÃO BENEDITO</th>\n",
       "      <th>neighbourhood_SÃO CRISTÓVÃO</th>\n",
       "      <th>neighbourhood_SÃO JOSÉ</th>\n",
       "      <th>neighbourhood_SÃO PEDRO</th>\n",
       "      <th>neighbourhood_TABUAZEIRO</th>\n",
       "      <th>neighbourhood_UNIVERSITÁRIO</th>\n",
       "      <th>neighbourhood_VILA RUBIM</th>\n",
       "    </tr>\n",
       "  </thead>\n",
       "  <tbody>\n",
       "    <tr>\n",
       "      <th>0</th>\n",
       "      <td>0.675676</td>\n",
       "      <td>0</td>\n",
       "      <td>1</td>\n",
       "      <td>0</td>\n",
       "      <td>0</td>\n",
       "      <td>0.0</td>\n",
       "      <td>0</td>\n",
       "      <td>4</td>\n",
       "      <td>4</td>\n",
       "      <td>-0.511916</td>\n",
       "      <td>...</td>\n",
       "      <td>0</td>\n",
       "      <td>0</td>\n",
       "      <td>0</td>\n",
       "      <td>0</td>\n",
       "      <td>0</td>\n",
       "      <td>0</td>\n",
       "      <td>0</td>\n",
       "      <td>0</td>\n",
       "      <td>0</td>\n",
       "      <td>0</td>\n",
       "    </tr>\n",
       "    <tr>\n",
       "      <th>1</th>\n",
       "      <td>0.513514</td>\n",
       "      <td>0</td>\n",
       "      <td>0</td>\n",
       "      <td>0</td>\n",
       "      <td>0</td>\n",
       "      <td>0.0</td>\n",
       "      <td>0</td>\n",
       "      <td>4</td>\n",
       "      <td>4</td>\n",
       "      <td>-0.511916</td>\n",
       "      <td>...</td>\n",
       "      <td>0</td>\n",
       "      <td>0</td>\n",
       "      <td>0</td>\n",
       "      <td>0</td>\n",
       "      <td>0</td>\n",
       "      <td>0</td>\n",
       "      <td>0</td>\n",
       "      <td>0</td>\n",
       "      <td>0</td>\n",
       "      <td>0</td>\n",
       "    </tr>\n",
       "    <tr>\n",
       "      <th>2</th>\n",
       "      <td>0.675676</td>\n",
       "      <td>0</td>\n",
       "      <td>0</td>\n",
       "      <td>0</td>\n",
       "      <td>0</td>\n",
       "      <td>0.0</td>\n",
       "      <td>0</td>\n",
       "      <td>4</td>\n",
       "      <td>4</td>\n",
       "      <td>-0.511916</td>\n",
       "      <td>...</td>\n",
       "      <td>0</td>\n",
       "      <td>0</td>\n",
       "      <td>0</td>\n",
       "      <td>0</td>\n",
       "      <td>0</td>\n",
       "      <td>0</td>\n",
       "      <td>0</td>\n",
       "      <td>0</td>\n",
       "      <td>0</td>\n",
       "      <td>0</td>\n",
       "    </tr>\n",
       "    <tr>\n",
       "      <th>3</th>\n",
       "      <td>-0.783784</td>\n",
       "      <td>0</td>\n",
       "      <td>0</td>\n",
       "      <td>0</td>\n",
       "      <td>0</td>\n",
       "      <td>0.0</td>\n",
       "      <td>0</td>\n",
       "      <td>4</td>\n",
       "      <td>4</td>\n",
       "      <td>-0.511916</td>\n",
       "      <td>...</td>\n",
       "      <td>0</td>\n",
       "      <td>0</td>\n",
       "      <td>0</td>\n",
       "      <td>0</td>\n",
       "      <td>0</td>\n",
       "      <td>0</td>\n",
       "      <td>0</td>\n",
       "      <td>0</td>\n",
       "      <td>0</td>\n",
       "      <td>0</td>\n",
       "    </tr>\n",
       "    <tr>\n",
       "      <th>4</th>\n",
       "      <td>0.513514</td>\n",
       "      <td>0</td>\n",
       "      <td>1</td>\n",
       "      <td>1</td>\n",
       "      <td>0</td>\n",
       "      <td>0.0</td>\n",
       "      <td>0</td>\n",
       "      <td>4</td>\n",
       "      <td>4</td>\n",
       "      <td>-0.511916</td>\n",
       "      <td>...</td>\n",
       "      <td>0</td>\n",
       "      <td>0</td>\n",
       "      <td>0</td>\n",
       "      <td>0</td>\n",
       "      <td>0</td>\n",
       "      <td>0</td>\n",
       "      <td>0</td>\n",
       "      <td>0</td>\n",
       "      <td>0</td>\n",
       "      <td>0</td>\n",
       "    </tr>\n",
       "  </tbody>\n",
       "</table>\n",
       "<p>5 rows × 93 columns</p>\n",
       "</div>"
      ],
      "text/plain": [
       "        age  scholarship  hypertension  diabetes  alcoholism  \\\n",
       "0  0.675676            0             1         0           0   \n",
       "1  0.513514            0             0         0           0   \n",
       "2  0.675676            0             0         0           0   \n",
       "3 -0.783784            0             0         0           0   \n",
       "4  0.513514            0             1         1           0   \n",
       "\n",
       "   disability_count  sms_received  appointment_weekday  scheduled_weekday  \\\n",
       "0               0.0             0                    4                  4   \n",
       "1               0.0             0                    4                  4   \n",
       "2               0.0             0                    4                  4   \n",
       "3               0.0             0                    4                  4   \n",
       "4               0.0             0                    4                  4   \n",
       "\n",
       "   days_between  ...  neighbourhood_SANTOS REIS  \\\n",
       "0     -0.511916  ...                          0   \n",
       "1     -0.511916  ...                          0   \n",
       "2     -0.511916  ...                          0   \n",
       "3     -0.511916  ...                          0   \n",
       "4     -0.511916  ...                          0   \n",
       "\n",
       "   neighbourhood_SEGURANÇA DO LAR  neighbourhood_SOLON BORGES  \\\n",
       "0                               0                           0   \n",
       "1                               0                           0   \n",
       "2                               0                           0   \n",
       "3                               0                           0   \n",
       "4                               0                           0   \n",
       "\n",
       "   neighbourhood_SÃO BENEDITO  neighbourhood_SÃO CRISTÓVÃO  \\\n",
       "0                           0                            0   \n",
       "1                           0                            0   \n",
       "2                           0                            0   \n",
       "3                           0                            0   \n",
       "4                           0                            0   \n",
       "\n",
       "   neighbourhood_SÃO JOSÉ  neighbourhood_SÃO PEDRO  neighbourhood_TABUAZEIRO  \\\n",
       "0                       0                        0                         0   \n",
       "1                       0                        0                         0   \n",
       "2                       0                        0                         0   \n",
       "3                       0                        0                         0   \n",
       "4                       0                        0                         0   \n",
       "\n",
       "   neighbourhood_UNIVERSITÁRIO  neighbourhood_VILA RUBIM  \n",
       "0                            0                         0  \n",
       "1                            0                         0  \n",
       "2                            0                         0  \n",
       "3                            0                         0  \n",
       "4                            0                         0  \n",
       "\n",
       "[5 rows x 93 columns]"
      ]
     },
     "execution_count": 117,
     "metadata": {},
     "output_type": "execute_result"
    }
   ],
   "source": [
    "features_scaled = pd.DataFrame(features)\n",
    "features_scaled.head()"
   ]
  },
  {
   "cell_type": "code",
   "execution_count": 118,
   "metadata": {},
   "outputs": [],
   "source": [
    "features_skew[continuous_features] = robust_scaler.fit_transform(features_skew[continuous_features])"
   ]
  },
  {
   "cell_type": "code",
   "execution_count": 119,
   "metadata": {},
   "outputs": [
    {
     "data": {
      "text/html": [
       "<div>\n",
       "<style scoped>\n",
       "    .dataframe tbody tr th:only-of-type {\n",
       "        vertical-align: middle;\n",
       "    }\n",
       "\n",
       "    .dataframe tbody tr th {\n",
       "        vertical-align: top;\n",
       "    }\n",
       "\n",
       "    .dataframe thead th {\n",
       "        text-align: right;\n",
       "    }\n",
       "</style>\n",
       "<table border=\"1\" class=\"dataframe\">\n",
       "  <thead>\n",
       "    <tr style=\"text-align: right;\">\n",
       "      <th></th>\n",
       "      <th>age</th>\n",
       "      <th>scholarship</th>\n",
       "      <th>hypertension</th>\n",
       "      <th>diabetes</th>\n",
       "      <th>alcoholism</th>\n",
       "      <th>disability_count</th>\n",
       "      <th>sms_received</th>\n",
       "      <th>appointment_weekday</th>\n",
       "      <th>scheduled_weekday</th>\n",
       "      <th>days_between</th>\n",
       "      <th>...</th>\n",
       "      <th>neighbourhood_SANTOS REIS</th>\n",
       "      <th>neighbourhood_SEGURANÇA DO LAR</th>\n",
       "      <th>neighbourhood_SOLON BORGES</th>\n",
       "      <th>neighbourhood_SÃO BENEDITO</th>\n",
       "      <th>neighbourhood_SÃO CRISTÓVÃO</th>\n",
       "      <th>neighbourhood_SÃO JOSÉ</th>\n",
       "      <th>neighbourhood_SÃO PEDRO</th>\n",
       "      <th>neighbourhood_TABUAZEIRO</th>\n",
       "      <th>neighbourhood_UNIVERSITÁRIO</th>\n",
       "      <th>neighbourhood_VILA RUBIM</th>\n",
       "    </tr>\n",
       "  </thead>\n",
       "  <tbody>\n",
       "    <tr>\n",
       "      <th>0</th>\n",
       "      <td>0.675676</td>\n",
       "      <td>0</td>\n",
       "      <td>1</td>\n",
       "      <td>0</td>\n",
       "      <td>0</td>\n",
       "      <td>0.0</td>\n",
       "      <td>0</td>\n",
       "      <td>4</td>\n",
       "      <td>4</td>\n",
       "      <td>-0.214286</td>\n",
       "      <td>...</td>\n",
       "      <td>0</td>\n",
       "      <td>0</td>\n",
       "      <td>0</td>\n",
       "      <td>0</td>\n",
       "      <td>0</td>\n",
       "      <td>0</td>\n",
       "      <td>0</td>\n",
       "      <td>0</td>\n",
       "      <td>0</td>\n",
       "      <td>0</td>\n",
       "    </tr>\n",
       "    <tr>\n",
       "      <th>1</th>\n",
       "      <td>0.513514</td>\n",
       "      <td>0</td>\n",
       "      <td>0</td>\n",
       "      <td>0</td>\n",
       "      <td>0</td>\n",
       "      <td>0.0</td>\n",
       "      <td>0</td>\n",
       "      <td>4</td>\n",
       "      <td>4</td>\n",
       "      <td>-0.214286</td>\n",
       "      <td>...</td>\n",
       "      <td>0</td>\n",
       "      <td>0</td>\n",
       "      <td>0</td>\n",
       "      <td>0</td>\n",
       "      <td>0</td>\n",
       "      <td>0</td>\n",
       "      <td>0</td>\n",
       "      <td>0</td>\n",
       "      <td>0</td>\n",
       "      <td>0</td>\n",
       "    </tr>\n",
       "    <tr>\n",
       "      <th>2</th>\n",
       "      <td>0.675676</td>\n",
       "      <td>0</td>\n",
       "      <td>0</td>\n",
       "      <td>0</td>\n",
       "      <td>0</td>\n",
       "      <td>0.0</td>\n",
       "      <td>0</td>\n",
       "      <td>4</td>\n",
       "      <td>4</td>\n",
       "      <td>-0.214286</td>\n",
       "      <td>...</td>\n",
       "      <td>0</td>\n",
       "      <td>0</td>\n",
       "      <td>0</td>\n",
       "      <td>0</td>\n",
       "      <td>0</td>\n",
       "      <td>0</td>\n",
       "      <td>0</td>\n",
       "      <td>0</td>\n",
       "      <td>0</td>\n",
       "      <td>0</td>\n",
       "    </tr>\n",
       "    <tr>\n",
       "      <th>3</th>\n",
       "      <td>-0.783784</td>\n",
       "      <td>0</td>\n",
       "      <td>0</td>\n",
       "      <td>0</td>\n",
       "      <td>0</td>\n",
       "      <td>0.0</td>\n",
       "      <td>0</td>\n",
       "      <td>4</td>\n",
       "      <td>4</td>\n",
       "      <td>-0.214286</td>\n",
       "      <td>...</td>\n",
       "      <td>0</td>\n",
       "      <td>0</td>\n",
       "      <td>0</td>\n",
       "      <td>0</td>\n",
       "      <td>0</td>\n",
       "      <td>0</td>\n",
       "      <td>0</td>\n",
       "      <td>0</td>\n",
       "      <td>0</td>\n",
       "      <td>0</td>\n",
       "    </tr>\n",
       "    <tr>\n",
       "      <th>4</th>\n",
       "      <td>0.513514</td>\n",
       "      <td>0</td>\n",
       "      <td>1</td>\n",
       "      <td>1</td>\n",
       "      <td>0</td>\n",
       "      <td>0.0</td>\n",
       "      <td>0</td>\n",
       "      <td>4</td>\n",
       "      <td>4</td>\n",
       "      <td>-0.214286</td>\n",
       "      <td>...</td>\n",
       "      <td>0</td>\n",
       "      <td>0</td>\n",
       "      <td>0</td>\n",
       "      <td>0</td>\n",
       "      <td>0</td>\n",
       "      <td>0</td>\n",
       "      <td>0</td>\n",
       "      <td>0</td>\n",
       "      <td>0</td>\n",
       "      <td>0</td>\n",
       "    </tr>\n",
       "  </tbody>\n",
       "</table>\n",
       "<p>5 rows × 93 columns</p>\n",
       "</div>"
      ],
      "text/plain": [
       "        age  scholarship  hypertension  diabetes  alcoholism  \\\n",
       "0  0.675676            0             1         0           0   \n",
       "1  0.513514            0             0         0           0   \n",
       "2  0.675676            0             0         0           0   \n",
       "3 -0.783784            0             0         0           0   \n",
       "4  0.513514            0             1         1           0   \n",
       "\n",
       "   disability_count  sms_received  appointment_weekday  scheduled_weekday  \\\n",
       "0               0.0             0                    4                  4   \n",
       "1               0.0             0                    4                  4   \n",
       "2               0.0             0                    4                  4   \n",
       "3               0.0             0                    4                  4   \n",
       "4               0.0             0                    4                  4   \n",
       "\n",
       "   days_between  ...  neighbourhood_SANTOS REIS  \\\n",
       "0     -0.214286  ...                          0   \n",
       "1     -0.214286  ...                          0   \n",
       "2     -0.214286  ...                          0   \n",
       "3     -0.214286  ...                          0   \n",
       "4     -0.214286  ...                          0   \n",
       "\n",
       "   neighbourhood_SEGURANÇA DO LAR  neighbourhood_SOLON BORGES  \\\n",
       "0                               0                           0   \n",
       "1                               0                           0   \n",
       "2                               0                           0   \n",
       "3                               0                           0   \n",
       "4                               0                           0   \n",
       "\n",
       "   neighbourhood_SÃO BENEDITO  neighbourhood_SÃO CRISTÓVÃO  \\\n",
       "0                           0                            0   \n",
       "1                           0                            0   \n",
       "2                           0                            0   \n",
       "3                           0                            0   \n",
       "4                           0                            0   \n",
       "\n",
       "   neighbourhood_SÃO JOSÉ  neighbourhood_SÃO PEDRO  neighbourhood_TABUAZEIRO  \\\n",
       "0                       0                        0                         0   \n",
       "1                       0                        0                         0   \n",
       "2                       0                        0                         0   \n",
       "3                       0                        0                         0   \n",
       "4                       0                        0                         0   \n",
       "\n",
       "   neighbourhood_UNIVERSITÁRIO  neighbourhood_VILA RUBIM  \n",
       "0                            0                         0  \n",
       "1                            0                         0  \n",
       "2                            0                         0  \n",
       "3                            0                         0  \n",
       "4                            0                         0  \n",
       "\n",
       "[5 rows x 93 columns]"
      ]
     },
     "execution_count": 119,
     "metadata": {},
     "output_type": "execute_result"
    }
   ],
   "source": [
    "skewed_features_scaled = pd.DataFrame(features_skew)\n",
    "skewed_features_scaled.head()"
   ]
  },
  {
   "cell_type": "code",
   "execution_count": null,
   "metadata": {},
   "outputs": [],
   "source": []
  },
  {
   "cell_type": "code",
   "execution_count": null,
   "metadata": {},
   "outputs": [],
   "source": []
  },
  {
   "cell_type": "code",
   "execution_count": null,
   "metadata": {},
   "outputs": [],
   "source": []
  },
  {
   "cell_type": "code",
   "execution_count": null,
   "metadata": {},
   "outputs": [],
   "source": []
  },
  {
   "cell_type": "code",
   "execution_count": null,
   "metadata": {},
   "outputs": [],
   "source": []
  },
  {
   "cell_type": "code",
   "execution_count": null,
   "metadata": {},
   "outputs": [],
   "source": []
  },
  {
   "cell_type": "markdown",
   "metadata": {},
   "source": [
    "<a id='conclusions'></a>\n",
    "## Conclusions\n",
    "\n",
    "#### Factors Associated with No Shows\n",
    "\n",
    "As can be seen in these charts, when the proportions of no shows for different patient characteristics are compared, there are some interesting results. These charts indicate the proportion of patients who have no-showed based on each of the different characteristics available in the dataset, with the exception of neighborhood."
   ]
  },
  {
   "cell_type": "code",
   "execution_count": null,
   "metadata": {},
   "outputs": [],
   "source": [
    "finalcharts()"
   ]
  },
  {
   "cell_type": "code",
   "execution_count": null,
   "metadata": {},
   "outputs": [],
   "source": [
    "finalagechart()"
   ]
  },
  {
   "cell_type": "markdown",
   "metadata": {},
   "source": [
    "The proportion of no shows is roughly even for gender and alcoholism status, making it appear that there is little relationship between these characteristics and not attending the appointments.\n",
    "\n",
    "Having a scholarship or receiving a text message appears to be positively related with not showing up for an appointment.\n",
    "\n",
    "Having Diabetes or Hypertension have a negative relationship with no shows. Having 1 disability also has a negative relationship with no shows, but it appears that the more disabilities the patient has, the more likely they were to have no showed for their appointment.\n",
    "\n",
    "Age has a positive skew, indicating that younger patients tend to no show more frequently."
   ]
  },
  {
   "cell_type": "markdown",
   "metadata": {},
   "source": [
    "##### Limitations\n",
    "\n",
    "An important limitation when viewing these charts is that these are all univariate analyses. In reality, the appointments actually represent patients with multiple characteristics that would interact. For example, a patient with diabetes, hypertension and alcoholism may look very different from a patient with just diabetes and hypertension. In addition, these are correlational rather than causal relationships. Performing analyses between how all of these factors interact, particularly in situations where patients may have multiple characteristics, would be interesting future research."
   ]
  },
  {
   "cell_type": "markdown",
   "metadata": {},
   "source": [
    "#### SMS Messages and No Shows"
   ]
  },
  {
   "cell_type": "markdown",
   "metadata": {},
   "source": [
    "The SMS Received relationship with no shows is really interesting. We would definitely expect patients who receive text message reminders to be more likely to attend their appointments. However, since the chart above only explores the relationship between no shows and receipt of a text message, it does not take into consideration other factors that could very much impact the relationships. One thing to be aware of from reviewing the data related to the number of days between scheduling the appointment and the appointment, itself, is that SMS messages were not sent for patients who scheduled their appointment on the same day as the appointment. Since appointments scheduled on the same day of the appointment accounted for a large number of the appointments, it is helpful to dig deeper to see if receiving a text message reminder is actually more likely to be associated with having missed the appointment."
   ]
  },
  {
   "cell_type": "code",
   "execution_count": null,
   "metadata": {},
   "outputs": [],
   "source": [
    "finalSMSChart()"
   ]
  },
  {
   "cell_type": "markdown",
   "metadata": {},
   "source": [
    "As can be seen here, receiving a SMS Reminder appears to have a more positive relationship with no shows than not receiving one."
   ]
  },
  {
   "cell_type": "markdown",
   "metadata": {},
   "source": [
    "##### Limitations\n",
    "\n",
    "As with above, this is a shallow view of the data that does not take all of the interactions between the different patient characteristics into consideration. It is possible that SMS Reminders might show more of a positive relationship for a certain subset of the population who would otherwise be unlikely to attend. It is also possible that they may have no correlation at all for another subset. Critically, we cannot draw any causal relationships between receiving a text message reminder and appointment attendance based on these analyses. In order to draw more valid conclusions, additional research and analysis that compares the different patient characteristics would also be helpful."
   ]
  },
  {
   "cell_type": "markdown",
   "metadata": {},
   "source": [
    "<a id='sources'></a>\n",
    "## Sources\n",
    "\n",
    "To understand the Scholarship column, which indicates enrollment in Bolsa Familia \n",
    "[Wikipedia Article](https://en.wikipedia.org/wiki/Bolsa_Fam%C3%ADlia) \n",
    "[World Without Poverty Bolsa Familia Webpage](http://wwp.org.br/en/social-policy/bolsa-familia/) \n",
    "[World Without Poverty Bolsa Familia Program Sheet](inthttps://wwp.org.br/wp-content/uploads/02.-BFP-Program-Sheet.pdf)\n",
    "\n",
    "For additional details about the data set, including the data dictionary:\n",
    "https://www.kaggle.com/datasets/joniarroba/noshowappointments\n",
    "\n",
    "For Markdown:\n",
    "https://wordpress.com/support/markdown-quick-reference/\n",
    "https://www.markdownguide.org/extended-syntax/\n",
    "https://www.tablesgenerator.com/markdown_tables#\n",
    "https://stackoverflow.com/questions/51573722/nested-numbered-list-do-not-break-line-in-jupyter-notebook-markdown\n",
    "\n",
    "For plotting:\n",
    "Pie Charts: https://matplotlib.org/2.0.2/examples/pie_and_polar_charts/pie_demo_features.html\n",
    "Line Chart: https://www.statology.org/plot-multiple-lines-matplotlib/\n",
    "\n",
    "For figures:\n",
    "https://www.tutorialspoint.com/setting-the-same-axis-limits-for-all-subplots-in-matplotlib\n",
    "https://matplotlib.org/stable/users/explain/figures.html#figure-explanation\n",
    "https://matplotlib.org/stable/gallery/ticks/tick-locators.html"
   ]
  },
  {
   "cell_type": "markdown",
   "metadata": {},
   "source": [
    "## OPTIONAL: Question for the reviewer\n",
    " \n",
    "If you have any question about the starter code or your own implementation, please add it in the cell below. \n",
    "\n",
    "For example, if you want to know why a piece of code is written the way it is, or its function, or alternative ways of implementing the same functionality, or if you want to get feedback on a specific part of your code or get feedback on things you tried but did not work.\n",
    "\n",
    "Please keep your questions succinct and clear to help the reviewer answer them satisfactorily. \n",
    "\n",
    "> **_Your question_**"
   ]
  },
  {
   "cell_type": "code",
   "execution_count": null,
   "metadata": {},
   "outputs": [],
   "source": [
    "from subprocess import call\n",
    "call(['python', '-m', 'nbconvert', 'Investigate_a_Dataset.ipynb'])"
   ]
  },
  {
   "cell_type": "code",
   "execution_count": null,
   "metadata": {},
   "outputs": [],
   "source": []
  }
 ],
 "metadata": {
  "kernelspec": {
   "display_name": "Python 3",
   "language": "python",
   "name": "python3"
  },
  "language_info": {
   "codemirror_mode": {
    "name": "ipython",
    "version": 3
   },
   "file_extension": ".py",
   "mimetype": "text/x-python",
   "name": "python",
   "nbconvert_exporter": "python",
   "pygments_lexer": "ipython3",
   "version": "3.8.16"
  }
 },
 "nbformat": 4,
 "nbformat_minor": 4
}
